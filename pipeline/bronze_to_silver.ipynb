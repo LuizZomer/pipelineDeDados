{
 "cells": [
  {
   "cell_type": "markdown",
   "metadata": {
    "application/vnd.databricks.v1+cell": {
     "cellMetadata": {},
     "inputWidgets": {},
     "nuid": "68d0366f-6dda-407c-8bda-be10ea6757fe",
     "showTitle": false,
     "tableResultSettingsMap": {},
     "title": ""
    }
   },
   "source": [
    "# Pipeline Bronze to Silver - Processamento de Dados"
   ]
  },
  {
   "cell_type": "markdown",
   "metadata": {
    "application/vnd.databricks.v1+cell": {
     "cellMetadata": {},
     "inputWidgets": {},
     "nuid": "2cabe739-511e-4151-b1ca-b24f1ba97b5e",
     "showTitle": false,
     "tableResultSettingsMap": {},
     "title": ""
    }
   },
   "source": [
    "## Validando a SparkSession"
   ]
  },
  {
   "cell_type": "code",
   "execution_count": 0,
   "metadata": {
    "application/vnd.databricks.v1+cell": {
     "cellMetadata": {
      "byteLimit": 2048000,
      "rowLimit": 10000
     },
     "inputWidgets": {},
     "nuid": "bbff073b-eba7-468c-8889-a9b71ce68216",
     "showTitle": false,
     "tableResultSettingsMap": {},
     "title": ""
    }
   },
   "outputs": [
    {
     "output_type": "display_data",
     "data": {
      "text/html": [
       "\n",
       "            <div>\n",
       "                <p><b>SparkSession - hive</b></p>\n",
       "                \n",
       "        <div>\n",
       "            <p><b>SparkContext</b></p>\n",
       "\n",
       "            <p><a href=\"/?o=1083472119584360#setting/sparkui/0615-200540-ukdrqxex/driver-2738637117038505256\">Spark UI</a></p>\n",
       "\n",
       "            <dl>\n",
       "              <dt>Version</dt>\n",
       "                <dd><code>v3.3.2</code></dd>\n",
       "              <dt>Master</dt>\n",
       "                <dd><code>local[8]</code></dd>\n",
       "              <dt>AppName</dt>\n",
       "                <dd><code>Databricks Shell</code></dd>\n",
       "            </dl>\n",
       "        </div>\n",
       "        \n",
       "            </div>\n",
       "        "
      ]
     },
     "metadata": {
      "application/vnd.databricks.v1+output": {
       "addedWidgets": {},
       "arguments": {},
       "data": "\n            <div>\n                <p><b>SparkSession - hive</b></p>\n                \n        <div>\n            <p><b>SparkContext</b></p>\n\n            <p><a href=\"/?o=1083472119584360#setting/sparkui/0615-200540-ukdrqxex/driver-2738637117038505256\">Spark UI</a></p>\n\n            <dl>\n              <dt>Version</dt>\n                <dd><code>v3.3.2</code></dd>\n              <dt>Master</dt>\n                <dd><code>local[8]</code></dd>\n              <dt>AppName</dt>\n                <dd><code>Databricks Shell</code></dd>\n            </dl>\n        </div>\n        \n            </div>\n        ",
       "datasetInfos": [],
       "metadata": {},
       "removedWidgets": [],
       "textData": null,
       "type": "htmlSandbox"
      }
     },
     "output_type": "display_data"
    }
   ],
   "source": [
    "spark"
   ]
  },
  {
   "cell_type": "markdown",
   "metadata": {
    "application/vnd.databricks.v1+cell": {
     "cellMetadata": {},
     "inputWidgets": {},
     "nuid": "a4ed6f40-677e-45bc-b91d-28db1514d9ef",
     "showTitle": false,
     "tableResultSettingsMap": {},
     "title": ""
    }
   },
   "source": [
    "## Configurações iniciais - Azure ADLS Gen2"
   ]
  },
  {
   "cell_type": "code",
   "execution_count": 0,
   "metadata": {
    "application/vnd.databricks.v1+cell": {
     "cellMetadata": {
      "byteLimit": 2048000,
      "rowLimit": 10000
     },
     "inputWidgets": {},
     "nuid": "c9bede78-be68-4428-8d63-6e9b24776be2",
     "showTitle": false,
     "tableResultSettingsMap": {},
     "title": ""
    }
   },
   "outputs": [],
   "source": [
    "storageAccountName = \"datalake7eadf73a479de9f7\"\n",
    "sasToken = \"sv=2024-11-04&ss=bfqt&srt=sco&sp=rwdlacupyx&se=2025-06-16T03:33:35Z&st=2025-06-15T19:33:35Z&spr=https&sig=fBJfCWK99G%2FGTBY81Y8eNQYEpOxgrzjVSaavlAB0np4%3D\"\n",
    "\n",
    "def mount_adls(blobContainerName):\n",
    "    try:\n",
    "        dbutils.fs.mount(\n",
    "            source = \"wasbs://{}@{}.blob.core.windows.net\".format(blobContainerName, storageAccountName),\n",
    "            mount_point = f\"/mnt/{storageAccountName}/{blobContainerName}\",\n",
    "            extra_configs = {'fs.azure.sas.' + blobContainerName + '.' + storageAccountName + '.blob.core.windows.net': sasToken}\n",
    "        )\n",
    "        print(f\"Container {blobContainerName} montado com sucesso!\")\n",
    "    except Exception as e:\n",
    "        print(f\"Falha ao montar {blobContainerName}: {e}\")"
   ]
  },
  {
   "cell_type": "markdown",
   "metadata": {
    "application/vnd.databricks.v1+cell": {
     "cellMetadata": {},
     "inputWidgets": {},
     "nuid": "a0c143b5-c6bc-4187-b8da-046c23b7b1a6",
     "showTitle": false,
     "tableResultSettingsMap": {},
     "title": ""
    }
   },
   "source": [
    "## Montando containers necessários"
   ]
  },
  {
   "cell_type": "code",
   "execution_count": 0,
   "metadata": {
    "application/vnd.databricks.v1+cell": {
     "cellMetadata": {
      "byteLimit": 2048000,
      "rowLimit": 10000
     },
     "inputWidgets": {},
     "nuid": "27332016-8301-462e-b72e-6d40b274b689",
     "showTitle": false,
     "tableResultSettingsMap": {},
     "title": ""
    }
   },
   "outputs": [
    {
     "output_type": "stream",
     "name": "stdout",
     "output_type": "stream",
     "text": [
      "Falha ao montar bronze: An error occurred while calling o1915.mount.\n: java.rmi.RemoteException: java.lang.IllegalArgumentException: requirement failed: Directory already mounted: /mnt/datalake7eadf73a479de9f7/bronze; nested exception is: \n\tjava.lang.IllegalArgumentException: requirement failed: Directory already mounted: /mnt/datalake7eadf73a479de9f7/bronze\n\tat com.databricks.backend.daemon.data.client.DbfsClient.send0(DbfsClient.scala:135)\n\tat com.databricks.backend.daemon.data.client.DbfsClient.sendIdempotent(DbfsClient.scala:69)\n\tat com.databricks.backend.daemon.dbutils.DBUtilsCore.createOrUpdateMount(DBUtilsCore.scala:1053)\n\tat com.databricks.backend.daemon.dbutils.DBUtilsCore.$anonfun$mount$1(DBUtilsCore.scala:1079)\n\tat com.databricks.logging.UsageLogging.$anonfun$recordOperation$1(UsageLogging.scala:560)\n\tat com.databricks.logging.UsageLogging.executeThunkAndCaptureResultTags$1(UsageLogging.scala:657)\n\tat com.databricks.logging.UsageLogging.$anonfun$recordOperationWithResultTags$4(UsageLogging.scala:678)\n\tat com.databricks.logging.UsageLogging.$anonfun$withAttributionContext$1(UsageLogging.scala:414)\n\tat scala.util.DynamicVariable.withValue(DynamicVariable.scala:62)\n\tat com.databricks.logging.AttributionContext$.withValue(AttributionContext.scala:158)\n\tat com.databricks.logging.UsageLogging.withAttributionContext(UsageLogging.scala:412)\n\tat com.databricks.logging.UsageLogging.withAttributionContext$(UsageLogging.scala:409)\n\tat com.databricks.backend.daemon.dbutils.FSUtils.withAttributionContext(DBUtilsCore.scala:71)\n\tat com.databricks.logging.UsageLogging.withAttributionTags(UsageLogging.scala:457)\n\tat com.databricks.logging.UsageLogging.withAttributionTags$(UsageLogging.scala:442)\n\tat com.databricks.backend.daemon.dbutils.FSUtils.withAttributionTags(DBUtilsCore.scala:71)\n\tat com.databricks.logging.UsageLogging.recordOperationWithResultTags(UsageLogging.scala:652)\n\tat com.databricks.logging.UsageLogging.recordOperationWithResultTags$(UsageLogging.scala:569)\n\tat com.databricks.backend.daemon.dbutils.FSUtils.recordOperationWithResultTags(DBUtilsCore.scala:71)\n\tat com.databricks.logging.UsageLogging.recordOperation(UsageLogging.scala:560)\n\tat com.databricks.logging.UsageLogging.recordOperation$(UsageLogging.scala:528)\n\tat com.databricks.backend.daemon.dbutils.FSUtils.recordOperation(DBUtilsCore.scala:71)\n\tat com.databricks.backend.daemon.dbutils.FSUtils.recordDbutilsFsOp(DBUtilsCore.scala:135)\n\tat com.databricks.backend.daemon.dbutils.DBUtilsCore.mount(DBUtilsCore.scala:1073)\n\tat sun.reflect.NativeMethodAccessorImpl.invoke0(Native Method)\n\tat sun.reflect.NativeMethodAccessorImpl.invoke(NativeMethodAccessorImpl.java:62)\n\tat sun.reflect.DelegatingMethodAccessorImpl.invoke(DelegatingMethodAccessorImpl.java:43)\n\tat java.lang.reflect.Method.invoke(Method.java:498)\n\tat py4j.reflection.MethodInvoker.invoke(MethodInvoker.java:244)\n\tat py4j.reflection.ReflectionEngine.invoke(ReflectionEngine.java:380)\n\tat py4j.Gateway.invoke(Gateway.java:306)\n\tat py4j.commands.AbstractCommand.invokeMethod(AbstractCommand.java:132)\n\tat py4j.commands.CallCommand.execute(CallCommand.java:79)\n\tat py4j.ClientServerConnection.waitForCommands(ClientServerConnection.java:195)\n\tat py4j.ClientServerConnection.run(ClientServerConnection.java:115)\n\tat java.lang.Thread.run(Thread.java:750)\nCaused by: java.lang.IllegalArgumentException: requirement failed: Directory already mounted: /mnt/datalake7eadf73a479de9f7/bronze\n\tat scala.Predef$.require(Predef.scala:281)\n\tat com.databricks.backend.daemon.data.server.DefaultMetadataManager.$anonfun$insertMount$1(MetadataManager.scala:860)\n\tat com.databricks.backend.daemon.data.server.DefaultMetadataManager.$anonfun$modifyAndVerify$2(MetadataManager.scala:1242)\n\tat scala.runtime.java8.JFunction0$mcV$sp.apply(JFunction0$mcV$sp.java:23)\n\tat com.databricks.backend.daemon.data.server.DefaultMetadataManager.withRetries(MetadataManager.scala:1015)\n\tat com.databricks.backend.daemon.data.server.DefaultMetadataManager.modifyAndVerify(MetadataManager.scala:1231)\n\tat com.databricks.backend.daemon.data.server.DefaultMetadataManager.insertMount(MetadataManager.scala:868)\n\tat com.databricks.backend.daemon.data.server.handler.MountHandler.receive(MountHandler.scala:131)\n\tat com.databricks.backend.daemon.data.server.handler.CEMountHandler.receive(MountHandler.scala:175)\n\tat com.databricks.backend.daemon.data.server.handler.DbfsRequestHandler.receive(DbfsRequestHandler.scala:16)\n\tat com.databricks.backend.daemon.data.server.handler.DbfsRequestHandler.receive$(DbfsRequestHandler.scala:15)\n\tat com.databricks.backend.daemon.data.server.handler.MountHandler.receive(MountHandler.scala:39)\n\tat com.databricks.backend.daemon.data.server.session.SessionContext.$anonfun$queryHandlers$1(SessionContext.scala:54)\n\tat com.databricks.backend.daemon.data.server.session.SessionContext.$anonfun$queryHandlers$1$adapted(SessionContext.scala:53)\n\tat scala.collection.immutable.List.foreach(List.scala:431)\n\tat com.databricks.backend.daemon.data.server.session.SessionContext.queryHandlers(SessionContext.scala:53)\n\tat com.databricks.backend.daemon.data.server.DbfsServerBackend.$anonfun$handleOtherRpc$2(DbfsServerBackend.scala:599)\n\tat com.databricks.logging.AttributionContextTracing.$anonfun$withAttributionContext$1(AttributionContextTracing.scala:49)\n\tat com.databricks.logging.AttributionContext$.$anonfun$withValue$1(AttributionContext.scala:290)\n\tat scala.util.DynamicVariable.withValue(DynamicVariable.scala:62)\n\tat com.databricks.logging.AttributionContext$.withValue(AttributionContext.scala:286)\n\tat com.databricks.logging.AttributionContextTracing.withAttributionContext(AttributionContextTracing.scala:47)\n\tat com.databricks.logging.AttributionContextTracing.withAttributionContext$(AttributionContextTracing.scala:44)\n\tat com.databricks.rpc.ServerBackend.withAttributionContext(ServerBackend.scala:22)\n\tat com.databricks.logging.AttributionContextTracing.withAttributionTags(AttributionContextTracing.scala:96)\n\tat com.databricks.logging.AttributionContextTracing.withAttributionTags$(AttributionContextTracing.scala:77)\n\tat com.databricks.rpc.ServerBackend.withAttributionTags(ServerBackend.scala:22)\n\tat com.databricks.backend.daemon.data.server.DbfsServerBackend.com$databricks$backend$daemon$data$server$DbfsServerBackend$$handleOtherRpc(DbfsServerBackend.scala:599)\n\tat com.databricks.backend.daemon.data.server.DbfsServerBackend$$anonfun$receive$1.applyOrElse(DbfsServerBackend.scala:524)\n\tat com.databricks.backend.daemon.data.server.DbfsServerBackend$$anonfun$receive$1.applyOrElse(DbfsServerBackend.scala:431)\n\tat com.databricks.rpc.ServerBackend.$anonfun$internalReceive0$2(ServerBackend.scala:174)\n\tat com.databricks.rpc.ServerBackend$$anonfun$commonReceive$1.applyOrElse(ServerBackend.scala:200)\n\tat com.databricks.rpc.ServerBackend$$anonfun$commonReceive$1.applyOrElse(ServerBackend.scala:200)\n\tat com.databricks.rpc.ServerBackend.internalReceive0(ServerBackend.scala:171)\n\tat com.databricks.rpc.ServerBackend.$anonfun$internalReceive$1(ServerBackend.scala:147)\n\tat com.databricks.logging.UsageLogging.$anonfun$recordOperation$1(UsageLogging.scala:510)\n\tat com.databricks.logging.UsageLogging.executeThunkAndCaptureResultTags$1(UsageLogging.scala:616)\n\tat com.databricks.logging.UsageLogging.$anonfun$recordOperationWithResultTags$4(UsageLogging.scala:643)\n\tat com.databricks.logging.AttributionContextTracing.$anonfun$withAttributionContext$1(AttributionContextTracing.scala:49)\n\tat com.databricks.logging.AttributionContext$.$anonfun$withValue$1(AttributionContext.scala:290)\n\tat scala.util.DynamicVariable.withValue(DynamicVariable.scala:62)\n\tat com.databricks.logging.AttributionContext$.withValue(AttributionContext.scala:286)\n\tat com.databricks.logging.AttributionContextTracing.withAttributionContext(AttributionContextTracing.scala:47)\n\tat com.databricks.logging.AttributionContextTracing.withAttributionContext$(AttributionContextTracing.scala:44)\n\tat com.databricks.rpc.ServerBackend.withAttributionContext(ServerBackend.scala:22)\n\tat com.databricks.logging.AttributionContextTracing.withAttributionTags(AttributionContextTracing.scala:96)\n\tat com.databricks.logging.AttributionContextTracing.withAttributionTags$(AttributionContextTracing.scala:77)\n\tat com.databricks.rpc.ServerBackend.withAttributionTags(ServerBackend.scala:22)\n\tat com.databricks.logging.UsageLogging.recordOperationWithResultTags(UsageLogging.scala:611)\n\tat com.databricks.logging.UsageLogging.recordOperationWithResultTags$(UsageLogging.scala:519)\n\tat com.databricks.rpc.ServerBackend.recordOperationWithResultTags(ServerBackend.scala:22)\n\tat com.databricks.logging.UsageLogging.recordOperation(UsageLogging.scala:511)\n\tat com.databricks.logging.UsageLogging.recordOperation$(UsageLogging.scala:475)\n\tat com.databricks.rpc.ServerBackend.recordOperation(ServerBackend.scala:22)\n\tat com.databricks.rpc.ServerBackend.internalReceive(ServerBackend.scala:146)\n\tat com.databricks.rpc.JettyServer$RequestManager.handleRPC(JettyServer.scala:1033)\n\tat com.databricks.rpc.JettyServer$RequestManager.handleRequestAndRespond(JettyServer.scala:953)\n\tat com.databricks.rpc.JettyServer$RequestManager.$anonfun$handleHttp$5(JettyServer.scala:548)\n\tat com.databricks.rpc.JettyServer$RequestManager.$anonfun$handleHttp$5$adapted(JettyServer.scala:513)\n\tat com.databricks.logging.activity.ActivityContextFactory$.$anonfun$withActivityInternal$12(ActivityContextFactory.scala:860)\n\tat com.databricks.logging.AttributionContextTracing.$anonfun$withAttributionContext$1(AttributionContextTracing.scala:49)\n\tat com.databricks.logging.AttributionContext$.$anonfun$withValue$1(AttributionContext.scala:290)\n\tat scala.util.DynamicVariable.withValue(DynamicVariable.scala:62)\n\tat com.databricks.logging.AttributionContext$.withValue(AttributionContext.scala:286)\n\tat com.databricks.logging.AttributionContextTracing.withAttributionContext(AttributionContextTracing.scala:47)\n\tat com.databricks.logging.AttributionContextTracing.withAttributionContext$(AttributionContextTracing.scala:44)\n\tat com.databricks.logging.activity.ActivityContextFactory$.withAttributionContext(ActivityContextFactory.scala:53)\n\tat com.databricks.logging.activity.ActivityContextFactory$.$anonfun$withActivityInternal$2(ActivityContextFactory.scala:860)\n\tat com.databricks.context.integrity.IntegrityCheckContext$ThreadLocalStorage$.withValue(IntegrityCheckContext.scala:73)\n\tat com.databricks.logging.activity.ActivityContextFactory$.withActivityInternal(ActivityContextFactory.scala:823)\n\tat com.databricks.logging.activity.ActivityContextFactory$.withActivityInternal(ActivityContextFactory.scala:805)\n\tat com.databricks.logging.activity.ActivityContextFactory$.$anonfun$withServiceRequestActivity$15(ActivityContextFactory.scala:291)\n\tat com.databricks.logging.AttributionContextTracing.$anonfun$withAttributionContext$1(AttributionContextTracing.scala:49)\n\tat com.databricks.logging.AttributionContext$.$anonfun$withValue$1(AttributionContext.scala:290)\n\tat scala.util.DynamicVariable.withValue(DynamicVariable.scala:62)\n\tat com.databricks.logging.AttributionContext$.withValue(AttributionContext.scala:286)\n\tat com.databricks.logging.AttributionContextTracing.withAttributionContext(AttributionContextTracing.scala:47)\n\tat com.databricks.logging.AttributionContextTracing.withAttributionContext$(AttributionContextTracing.scala:44)\n\tat com.databricks.logging.activity.ActivityContextFactory$.withAttributionContext(ActivityContextFactory.scala:53)\n\tat com.databricks.logging.activity.ActivityContextFactory$.withServiceRequestActivity(ActivityContextFactory.scala:291)\n\tat com.databricks.rpc.JettyServer$RequestManager.handleHttp(JettyServer.scala:513)\n\tat com.databricks.rpc.JettyServer$RequestManager.doPost(JettyServer.scala:408)\n\tat javax.servlet.http.HttpServlet.service(HttpServlet.java:665)\n\tat com.databricks.rpc.HttpServletWithPatch.service(HttpServletWithPatch.scala:33)\n\tat javax.servlet.http.HttpServlet.service(HttpServlet.java:750)\n\tat org.eclipse.jetty.servlet.ServletHolder.handle(ServletHolder.java:799)\n\tat org.eclipse.jetty.servlet.ServletHandler.doHandle(ServletHandler.java:554)\n\tat org.eclipse.jetty.server.handler.ScopedHandler.nextScope(ScopedHandler.java:190)\n\tat org.eclipse.jetty.servlet.ServletHandler.doScope(ServletHandler.java:505)\n\tat org.eclipse.jetty.server.handler.ScopedHandler.handle(ScopedHandler.java:141)\n\tat org.eclipse.jetty.server.handler.HandlerWrapper.handle(HandlerWrapper.java:127)\n\tat org.eclipse.jetty.server.Server.handle(Server.java:516)\n\tat org.eclipse.jetty.server.HttpChannel.lambda$handle$1(HttpChannel.java:487)\n\tat org.eclipse.jetty.server.HttpChannel.dispatch(HttpChannel.java:732)\n\tat org.eclipse.jetty.server.HttpChannel.handle(HttpChannel.java:479)\n\tat org.eclipse.jetty.server.HttpConnection.onFillable(HttpConnection.java:277)\n\tat org.eclipse.jetty.io.AbstractConnection$ReadCallback.succeeded(AbstractConnection.java:311)\n\tat org.eclipse.jetty.io.FillInterest.fillable(FillInterest.java:105)\n\tat org.eclipse.jetty.io.ChannelEndPoint$1.run(ChannelEndPoint.java:104)\n\tat org.eclipse.jetty.util.thread.strategy.EatWhatYouKill.runTask(EatWhatYouKill.java:338)\n\tat org.eclipse.jetty.util.thread.strategy.EatWhatYouKill.doProduce(EatWhatYouKill.java:315)\n\tat org.eclipse.jetty.util.thread.strategy.EatWhatYouKill.tryProduce(EatWhatYouKill.java:173)\n\tat org.eclipse.jetty.util.thread.strategy.EatWhatYouKill.run(EatWhatYouKill.java:131)\n\tat org.eclipse.jetty.util.thread.ReservedThreadExecutor$ReservedThread.run(ReservedThreadExecutor.java:409)\n\tat com.databricks.rpc.InstrumentedQueuedThreadPool$$anon$1.$anonfun$run$2(InstrumentedQueuedThreadPool.scala:110)\n\tat scala.runtime.java8.JFunction0$mcV$sp.apply(JFunction0$mcV$sp.java:23)\n\tat com.databricks.logging.AttributionContextTracing.$anonfun$withAttributionContext$1(AttributionContextTracing.scala:49)\n\tat com.databricks.logging.AttributionContext$.$anonfun$withValue$1(AttributionContext.scala:290)\n\tat scala.util.DynamicVariable.withValue(DynamicVariable.scala:62)\n\tat com.databricks.logging.AttributionContext$.withValue(AttributionContext.scala:286)\n\tat com.databricks.logging.AttributionContextTracing.withAttributionContext(AttributionContextTracing.scala:47)\n\tat com.databricks.logging.AttributionContextTracing.withAttributionContext$(AttributionContextTracing.scala:44)\n\tat com.databricks.rpc.InstrumentedQueuedThreadPool.withAttributionContext(InstrumentedQueuedThreadPool.scala:45)\n\tat com.databricks.rpc.InstrumentedQueuedThreadPool$$anon$1.$anonfun$run$1(InstrumentedQueuedThreadPool.scala:110)\n\tat scala.runtime.java8.JFunction0$mcV$sp.apply(JFunction0$mcV$sp.java:23)\n\tat com.databricks.instrumentation.QueuedThreadPoolInstrumenter.trackActiveThreads(QueuedThreadPoolInstrumenter.scala:132)\n\tat com.databricks.instrumentation.QueuedThreadPoolInstrumenter.trackActiveThreads$(QueuedThreadPoolInstrumenter.scala:129)\n\tat com.databricks.rpc.InstrumentedQueuedThreadPool.trackActiveThreads(InstrumentedQueuedThreadPool.scala:45)\n\tat com.databricks.rpc.InstrumentedQueuedThreadPool$$anon$1.run(InstrumentedQueuedThreadPool.scala:92)\n\tat org.eclipse.jetty.util.thread.QueuedThreadPool.runJob(QueuedThreadPool.java:883)\n\tat org.eclipse.jetty.util.thread.QueuedThreadPool$Runner.run(QueuedThreadPool.java:1034)\n\tat java.lang.Thread.run(Thread.java:840)\n\nContainer silver montado com sucesso!\n"
     ]
    }
   ],
   "source": [
    "mount_adls('bronze')\n",
    "mount_adls('silver')"
   ]
  },
  {
   "cell_type": "markdown",
   "metadata": {
    "application/vnd.databricks.v1+cell": {
     "cellMetadata": {},
     "inputWidgets": {},
     "nuid": "7adcf6b3-c299-47d5-a190-d0f91720c05e",
     "showTitle": false,
     "tableResultSettingsMap": {},
     "title": ""
    }
   },
   "source": [
    "## Verificando containers montados"
   ]
  },
  {
   "cell_type": "code",
   "execution_count": 0,
   "metadata": {
    "application/vnd.databricks.v1+cell": {
     "cellMetadata": {
      "byteLimit": 2048000,
      "rowLimit": 10000
     },
     "inputWidgets": {},
     "nuid": "fa2d0c72-d68e-4e04-8d57-63adcbbd56f5",
     "showTitle": false,
     "tableResultSettingsMap": {},
     "title": ""
    }
   },
   "outputs": [
    {
     "output_type": "display_data",
     "data": {
      "text/html": [
       "<style scoped>\n",
       "  .table-result-container {\n",
       "    max-height: 300px;\n",
       "    overflow: auto;\n",
       "  }\n",
       "  table, th, td {\n",
       "    border: 1px solid black;\n",
       "    border-collapse: collapse;\n",
       "  }\n",
       "  th, td {\n",
       "    padding: 5px;\n",
       "  }\n",
       "  th {\n",
       "    text-align: left;\n",
       "  }\n",
       "</style><div class='table-result-container'><table class='table-result'><thead style='background-color: white'><tr><th>mountPoint</th><th>source</th><th>encryptionType</th></tr></thead><tbody><tr><td>/databricks-datasets</td><td>databricks-datasets</td><td></td></tr><tr><td>/mnt/datalake7eadf73a479de9f7/silver</td><td>wasbs://silver@datalake7eadf73a479de9f7.blob.core.windows.net</td><td></td></tr><tr><td>/mnt/datalakefbca7dc4e981b9cb/landing-zone</td><td>wasbs://landing-zone@datalakefbca7dc4e981b9cb.blob.core.windows.net</td><td></td></tr><tr><td>/databricks/mlflow-tracking</td><td>databricks/mlflow-tracking</td><td>sse-s3</td></tr><tr><td>/databricks-results</td><td>databricks-results</td><td>sse-s3</td></tr><tr><td>/mnt/datalakefbca7dc4e981b9cb/gold</td><td>wasbs://gold@datalakefbca7dc4e981b9cb.blob.core.windows.net</td><td></td></tr><tr><td>/databricks/mlflow-registry</td><td>databricks/mlflow-registry</td><td>sse-s3</td></tr><tr><td>/mnt/datalake7eadf73a479de9f7/landing-zone</td><td>wasbs://landing-zone@datalake7eadf73a479de9f7.blob.core.windows.net</td><td></td></tr><tr><td>/mnt/datalakefbca7dc4e981b9cb/silver</td><td>wasbs://silver@datalakefbca7dc4e981b9cb.blob.core.windows.net</td><td></td></tr><tr><td>/mnt/datalakec8dc20f3798c1da9/bronze</td><td>wasbs://bronze@datalakec8dc20f3798c1da9.blob.core.windows.net</td><td></td></tr><tr><td>/mnt/datalakec8dc20f3798c1da9/landing-zone</td><td>wasbs://landing-zone@datalakec8dc20f3798c1da9.blob.core.windows.net</td><td></td></tr><tr><td>/mnt/datalakefbca7dc4e981b9cb/lading-zone</td><td>wasbs://lading-zone@datalakefbca7dc4e981b9cb.blob.core.windows.net</td><td></td></tr><tr><td>/mnt/datalakefbca7dc4e981b9cb/bronze</td><td>wasbs://bronze@datalakefbca7dc4e981b9cb.blob.core.windows.net</td><td></td></tr><tr><td>/mnt/datalake7eadf73a479de9f7/bronze</td><td>wasbs://bronze@datalake7eadf73a479de9f7.blob.core.windows.net</td><td></td></tr><tr><td>/</td><td>DatabricksRoot</td><td>sse-s3</td></tr></tbody></table></div>"
      ]
     },
     "metadata": {
      "application/vnd.databricks.v1+output": {
       "addedWidgets": {},
       "aggData": [],
       "aggError": "",
       "aggOverflow": false,
       "aggSchema": [],
       "aggSeriesLimitReached": false,
       "aggType": "",
       "arguments": {},
       "columnCustomDisplayInfos": {},
       "data": [
        [
         "/databricks-datasets",
         "databricks-datasets",
         ""
        ],
        [
         "/mnt/datalake7eadf73a479de9f7/silver",
         "wasbs://silver@datalake7eadf73a479de9f7.blob.core.windows.net",
         ""
        ],
        [
         "/mnt/datalakefbca7dc4e981b9cb/landing-zone",
         "wasbs://landing-zone@datalakefbca7dc4e981b9cb.blob.core.windows.net",
         ""
        ],
        [
         "/databricks/mlflow-tracking",
         "databricks/mlflow-tracking",
         "sse-s3"
        ],
        [
         "/databricks-results",
         "databricks-results",
         "sse-s3"
        ],
        [
         "/mnt/datalakefbca7dc4e981b9cb/gold",
         "wasbs://gold@datalakefbca7dc4e981b9cb.blob.core.windows.net",
         ""
        ],
        [
         "/databricks/mlflow-registry",
         "databricks/mlflow-registry",
         "sse-s3"
        ],
        [
         "/mnt/datalake7eadf73a479de9f7/landing-zone",
         "wasbs://landing-zone@datalake7eadf73a479de9f7.blob.core.windows.net",
         ""
        ],
        [
         "/mnt/datalakefbca7dc4e981b9cb/silver",
         "wasbs://silver@datalakefbca7dc4e981b9cb.blob.core.windows.net",
         ""
        ],
        [
         "/mnt/datalakec8dc20f3798c1da9/bronze",
         "wasbs://bronze@datalakec8dc20f3798c1da9.blob.core.windows.net",
         ""
        ],
        [
         "/mnt/datalakec8dc20f3798c1da9/landing-zone",
         "wasbs://landing-zone@datalakec8dc20f3798c1da9.blob.core.windows.net",
         ""
        ],
        [
         "/mnt/datalakefbca7dc4e981b9cb/lading-zone",
         "wasbs://lading-zone@datalakefbca7dc4e981b9cb.blob.core.windows.net",
         ""
        ],
        [
         "/mnt/datalakefbca7dc4e981b9cb/bronze",
         "wasbs://bronze@datalakefbca7dc4e981b9cb.blob.core.windows.net",
         ""
        ],
        [
         "/mnt/datalake7eadf73a479de9f7/bronze",
         "wasbs://bronze@datalake7eadf73a479de9f7.blob.core.windows.net",
         ""
        ],
        [
         "/",
         "DatabricksRoot",
         "sse-s3"
        ]
       ],
       "datasetInfos": [],
       "dbfsResultPath": null,
       "isJsonSchema": true,
       "metadata": {},
       "overflow": false,
       "plotOptions": {
        "customPlotOptions": {},
        "displayType": "table",
        "pivotAggregation": null,
        "pivotColumns": null,
        "xColumns": null,
        "yColumns": null
       },
       "removedWidgets": [],
       "schema": [
        {
         "metadata": "{}",
         "name": "mountPoint",
         "type": "\"string\""
        },
        {
         "metadata": "{}",
         "name": "source",
         "type": "\"string\""
        },
        {
         "metadata": "{}",
         "name": "encryptionType",
         "type": "\"string\""
        }
       ],
       "type": "table"
      }
     },
     "output_type": "display_data"
    }
   ],
   "source": [
    "display(dbutils.fs.mounts())"
   ]
  },
  {
   "cell_type": "markdown",
   "metadata": {
    "application/vnd.databricks.v1+cell": {
     "cellMetadata": {},
     "inputWidgets": {},
     "nuid": "341486f2-06a5-41b7-80e0-6290cdd2d183",
     "showTitle": false,
     "tableResultSettingsMap": {},
     "title": ""
    }
   },
   "source": [
    "## Visualizando arquivos na camada Bronze"
   ]
  },
  {
   "cell_type": "code",
   "execution_count": 0,
   "metadata": {
    "application/vnd.databricks.v1+cell": {
     "cellMetadata": {
      "byteLimit": 2048000,
      "rowLimit": 10000
     },
     "inputWidgets": {},
     "nuid": "8ebe4bae-2ba2-4970-9fe6-0f8b6c24ae97",
     "showTitle": false,
     "tableResultSettingsMap": {},
     "title": ""
    }
   },
   "outputs": [
    {
     "output_type": "display_data",
     "data": {
      "text/html": [
       "<style scoped>\n",
       "  .table-result-container {\n",
       "    max-height: 300px;\n",
       "    overflow: auto;\n",
       "  }\n",
       "  table, th, td {\n",
       "    border: 1px solid black;\n",
       "    border-collapse: collapse;\n",
       "  }\n",
       "  th, td {\n",
       "    padding: 5px;\n",
       "  }\n",
       "  th {\n",
       "    text-align: left;\n",
       "  }\n",
       "</style><div class='table-result-container'><table class='table-result'><thead style='background-color: white'><tr><th>path</th><th>name</th><th>size</th><th>modificationTime</th></tr></thead><tbody><tr><td>dbfs:/mnt/datalake7eadf73a479de9f7/bronze/achievement_unlocked/</td><td>achievement_unlocked/</td><td>0</td><td>0</td></tr><tr><td>dbfs:/mnt/datalake7eadf73a479de9f7/bronze/achievements/</td><td>achievements/</td><td>0</td><td>0</td></tr><tr><td>dbfs:/mnt/datalake7eadf73a479de9f7/bronze/developers/</td><td>developers/</td><td>0</td><td>0</td></tr><tr><td>dbfs:/mnt/datalake7eadf73a479de9f7/bronze/dlcs/</td><td>dlcs/</td><td>0</td><td>0</td></tr><tr><td>dbfs:/mnt/datalake7eadf73a479de9f7/bronze/game_genders/</td><td>game_genders/</td><td>0</td><td>0</td></tr><tr><td>dbfs:/mnt/datalake7eadf73a479de9f7/bronze/game_platforms/</td><td>game_platforms/</td><td>0</td><td>0</td></tr><tr><td>dbfs:/mnt/datalake7eadf73a479de9f7/bronze/game_tags/</td><td>game_tags/</td><td>0</td><td>0</td></tr><tr><td>dbfs:/mnt/datalake7eadf73a479de9f7/bronze/games/</td><td>games/</td><td>0</td><td>0</td></tr><tr><td>dbfs:/mnt/datalake7eadf73a479de9f7/bronze/genders/</td><td>genders/</td><td>0</td><td>0</td></tr><tr><td>dbfs:/mnt/datalake7eadf73a479de9f7/bronze/platforms/</td><td>platforms/</td><td>0</td><td>0</td></tr><tr><td>dbfs:/mnt/datalake7eadf73a479de9f7/bronze/purchases/</td><td>purchases/</td><td>0</td><td>0</td></tr><tr><td>dbfs:/mnt/datalake7eadf73a479de9f7/bronze/reviews/</td><td>reviews/</td><td>0</td><td>0</td></tr><tr><td>dbfs:/mnt/datalake7eadf73a479de9f7/bronze/tags/</td><td>tags/</td><td>0</td><td>0</td></tr><tr><td>dbfs:/mnt/datalake7eadf73a479de9f7/bronze/users/</td><td>users/</td><td>0</td><td>0</td></tr></tbody></table></div>"
      ]
     },
     "metadata": {
      "application/vnd.databricks.v1+output": {
       "addedWidgets": {},
       "aggData": [],
       "aggError": "",
       "aggOverflow": false,
       "aggSchema": [],
       "aggSeriesLimitReached": false,
       "aggType": "",
       "arguments": {},
       "columnCustomDisplayInfos": {},
       "data": [
        [
         "dbfs:/mnt/datalake7eadf73a479de9f7/bronze/achievement_unlocked/",
         "achievement_unlocked/",
         0,
         0
        ],
        [
         "dbfs:/mnt/datalake7eadf73a479de9f7/bronze/achievements/",
         "achievements/",
         0,
         0
        ],
        [
         "dbfs:/mnt/datalake7eadf73a479de9f7/bronze/developers/",
         "developers/",
         0,
         0
        ],
        [
         "dbfs:/mnt/datalake7eadf73a479de9f7/bronze/dlcs/",
         "dlcs/",
         0,
         0
        ],
        [
         "dbfs:/mnt/datalake7eadf73a479de9f7/bronze/game_genders/",
         "game_genders/",
         0,
         0
        ],
        [
         "dbfs:/mnt/datalake7eadf73a479de9f7/bronze/game_platforms/",
         "game_platforms/",
         0,
         0
        ],
        [
         "dbfs:/mnt/datalake7eadf73a479de9f7/bronze/game_tags/",
         "game_tags/",
         0,
         0
        ],
        [
         "dbfs:/mnt/datalake7eadf73a479de9f7/bronze/games/",
         "games/",
         0,
         0
        ],
        [
         "dbfs:/mnt/datalake7eadf73a479de9f7/bronze/genders/",
         "genders/",
         0,
         0
        ],
        [
         "dbfs:/mnt/datalake7eadf73a479de9f7/bronze/platforms/",
         "platforms/",
         0,
         0
        ],
        [
         "dbfs:/mnt/datalake7eadf73a479de9f7/bronze/purchases/",
         "purchases/",
         0,
         0
        ],
        [
         "dbfs:/mnt/datalake7eadf73a479de9f7/bronze/reviews/",
         "reviews/",
         0,
         0
        ],
        [
         "dbfs:/mnt/datalake7eadf73a479de9f7/bronze/tags/",
         "tags/",
         0,
         0
        ],
        [
         "dbfs:/mnt/datalake7eadf73a479de9f7/bronze/users/",
         "users/",
         0,
         0
        ]
       ],
       "datasetInfos": [],
       "dbfsResultPath": null,
       "isJsonSchema": true,
       "metadata": {},
       "overflow": false,
       "plotOptions": {
        "customPlotOptions": {},
        "displayType": "table",
        "pivotAggregation": null,
        "pivotColumns": null,
        "xColumns": null,
        "yColumns": null
       },
       "removedWidgets": [],
       "schema": [
        {
         "metadata": "{}",
         "name": "path",
         "type": "\"string\""
        },
        {
         "metadata": "{}",
         "name": "name",
         "type": "\"string\""
        },
        {
         "metadata": "{}",
         "name": "size",
         "type": "\"long\""
        },
        {
         "metadata": "{}",
         "name": "modificationTime",
         "type": "\"long\""
        }
       ],
       "type": "table"
      }
     },
     "output_type": "display_data"
    }
   ],
   "source": [
    "display(dbutils.fs.ls(f\"/mnt/{storageAccountName}/bronze\"))"
   ]
  },
  {
   "cell_type": "markdown",
   "metadata": {
    "application/vnd.databricks.v1+cell": {
     "cellMetadata": {},
     "inputWidgets": {},
     "nuid": "31d759a7-7eeb-49b1-9622-9aae30db20d6",
     "showTitle": false,
     "tableResultSettingsMap": {},
     "title": ""
    }
   },
   "source": [
    "## Importando bibliotecas necessárias"
   ]
  },
  {
   "cell_type": "code",
   "execution_count": 0,
   "metadata": {
    "application/vnd.databricks.v1+cell": {
     "cellMetadata": {
      "byteLimit": 2048000,
      "rowLimit": 10000
     },
     "inputWidgets": {},
     "nuid": "2e83a858-bf42-46f4-a613-3214009fd682",
     "showTitle": false,
     "tableResultSettingsMap": {},
     "title": ""
    }
   },
   "outputs": [],
   "source": [
    "from pyspark.sql.functions import current_timestamp, lit"
   ]
  },
  {
   "cell_type": "markdown",
   "metadata": {
    "application/vnd.databricks.v1+cell": {
     "cellMetadata": {},
     "inputWidgets": {},
     "nuid": "3b913ef4-d716-4768-b486-34ce86643a66",
     "showTitle": false,
     "tableResultSettingsMap": {},
     "title": ""
    }
   },
   "source": [
    "## Função para padronização de nomes de colunas"
   ]
  },
  {
   "cell_type": "code",
   "execution_count": 0,
   "metadata": {
    "application/vnd.databricks.v1+cell": {
     "cellMetadata": {
      "byteLimit": 2048000,
      "rowLimit": 10000
     },
     "inputWidgets": {},
     "nuid": "92a9e402-f8b8-496f-b35c-45d104196f7c",
     "showTitle": false,
     "tableResultSettingsMap": {},
     "title": ""
    }
   },
   "outputs": [],
   "source": [
    "def padronizar_nomes_colunas(df, nome_tabela):\n",
    "    \"\"\"\n",
    "    Padroniza nomes de colunas seguindo convenções:\n",
    "    - Converte para maiúscula\n",
    "    - Substitui prefixos por nomes completos\n",
    "    - Adiciona metadados de processamento\n",
    "    \"\"\"\n",
    "    \n",
    "    # Renomear colunas seguindo padrões\n",
    "    for coluna in df.columns:\n",
    "        novo_nome = coluna.upper()\n",
    "        \n",
    "        # Substituições de prefixos\n",
    "        novo_nome = novo_nome.replace(\"CD_\", \"CODIGO_\")\n",
    "        novo_nome = novo_nome.replace(\"VL_\", \"VALOR_\")\n",
    "        novo_nome = novo_nome.replace(\"DT_\", \"DATA_\")\n",
    "        novo_nome = novo_nome.replace(\"NM_\", \"NOME_\")\n",
    "        novo_nome = novo_nome.replace(\"DS_\", \"DESCRICAO_\")\n",
    "        novo_nome = novo_nome.replace(\"NR_\", \"NUMERO_\")\n",
    "        novo_nome = novo_nome.replace(\"_UF\", \"_UNIDADE_FEDERATIVA\")\n",
    "        \n",
    "        df = df.withColumnRenamed(coluna, novo_nome)\n",
    "    \n",
    "    # Remover colunas de metadados antigos se existirem\n",
    "    colunas_remover = [\"DATA_HORA_BRONZE\", \"NOME_ARQUIVO\"]\n",
    "    for col in colunas_remover:\n",
    "        if col in df.columns:\n",
    "            df = df.drop(col)\n",
    "    \n",
    "    # Adicionar metadados da camada Silver\n",
    "    df = df.withColumn(\"NOME_ARQUIVO_BRONZE\", lit(nome_tabela))\n",
    "    df = df.withColumn(\"DATA_HORA_SILVER\", current_timestamp())\n",
    "    \n",
    "    return df"
   ]
  },
  {
   "cell_type": "markdown",
   "metadata": {
    "application/vnd.databricks.v1+cell": {
     "cellMetadata": {},
     "inputWidgets": {},
     "nuid": "c1782b6e-1c58-4f28-bc1a-3108a2211fbb",
     "showTitle": false,
     "tableResultSettingsMap": {},
     "title": ""
    }
   },
   "source": [
    "## Processamento Bronze to Silver - Versão Massiva"
   ]
  },
  {
   "cell_type": "code",
   "execution_count": 0,
   "metadata": {
    "application/vnd.databricks.v1+cell": {
     "cellMetadata": {
      "byteLimit": 2048000,
      "rowLimit": 10000
     },
     "inputWidgets": {},
     "nuid": "729f61e4-0367-408d-8b1f-72a658358e7d",
     "showTitle": false,
     "tableResultSettingsMap": {},
     "title": ""
    }
   },
   "outputs": [],
   "source": [
    "def process_bronze_to_silver():\n",
    "    \"\"\"Processa todas as tabelas da camada Bronze para Silver\"\"\"\n",
    "    \n",
    "    bronze_path = f\"/mnt/{storageAccountName}/bronze\"\n",
    "    silver_path = f\"/mnt/{storageAccountName}/silver\"\n",
    "    \n",
    "    tabelas_processadas = {}\n",
    "    \n",
    "    try:\n",
    "        bronze_dirs = dbutils.fs.ls(bronze_path)\n",
    "        \n",
    "        for dir_info in bronze_dirs:\n",
    "            if dir_info.isDir():\n",
    "                table_name = dir_info.name.rstrip('/')\n",
    "                print(f\"\\n=== Processando tabela: {table_name} ===\")\n",
    "                \n",
    "                # Carregar dados da camada Bronze\n",
    "                df_bronze = spark.read.format('delta').load(dir_info.path)\n",
    "                print(f\"Registros carregados: {df_bronze.count()}\")\n",
    "                \n",
    "                # Aplicar transformações para Silver\n",
    "                df_silver = padronizar_nomes_colunas(df_bronze, table_name)\n",
    "                \n",
    "                # Salvar na camada Silver\n",
    "                df_silver.write.format('delta').mode('overwrite').save(f\"{silver_path}/{table_name}\")\n",
    "                print(f\"Tabela {table_name} salva na camada Silver\")\n",
    "                \n",
    "                # Armazenar para validação\n",
    "                tabelas_processadas[table_name] = df_silver\n",
    "                \n",
    "                # Mostrar esquema da tabela processada\n",
    "                print(f\"Esquema da tabela {table_name}:\")\n",
    "                df_silver.printSchema()\n",
    "                \n",
    "    except Exception as e:\n",
    "        print(f\"Erro no processamento: {str(e)}\")\n",
    "    \n",
    "    return tabelas_processadas"
   ]
  },
  {
   "cell_type": "markdown",
   "metadata": {
    "application/vnd.databricks.v1+cell": {
     "cellMetadata": {},
     "inputWidgets": {},
     "nuid": "61bf935c-168b-4371-ae3c-6ddb9c75668e",
     "showTitle": false,
     "tableResultSettingsMap": {},
     "title": ""
    }
   },
   "source": [
    "## Executando o processamento Bronze to Silver"
   ]
  },
  {
   "cell_type": "code",
   "execution_count": 0,
   "metadata": {
    "application/vnd.databricks.v1+cell": {
     "cellMetadata": {
      "byteLimit": 2048000,
      "rowLimit": 10000
     },
     "inputWidgets": {},
     "nuid": "94fc4fb4-c742-42d5-becb-62d44e4a4356",
     "showTitle": false,
     "tableResultSettingsMap": {},
     "title": ""
    }
   },
   "outputs": [
    {
     "output_type": "stream",
     "name": "stdout",
     "output_type": "stream",
     "text": [
      "\n=== Processando tabela: achievement_unlocked ===\nRegistros carregados: 2\nTabela achievement_unlocked salva na camada Silver\nEsquema da tabela achievement_unlocked:\nroot\n |-- ID: integer (nullable = true)\n |-- USER_ID: integer (nullable = true)\n |-- ACHIEVEMENT_ID: integer (nullable = true)\n |-- NOME_ARQUIVO_BRONZE: string (nullable = false)\n |-- DATA_HORA_SILVER: timestamp (nullable = false)\n\n\n=== Processando tabela: achievements ===\nRegistros carregados: 2\nTabela achievements salva na camada Silver\nEsquema da tabela achievements:\nroot\n |-- ID: integer (nullable = true)\n |-- GAME_ID: integer (nullable = true)\n |-- TITLE: string (nullable = true)\n |-- DESCRIPTION: string (nullable = true)\n |-- NOME_ARQUIVO_BRONZE: string (nullable = false)\n |-- DATA_HORA_SILVER: timestamp (nullable = false)\n\n\n=== Processando tabela: developers ===\nRegistros carregados: 2\nTabela developers salva na camada Silver\nEsquema da tabela developers:\nroot\n |-- ID: integer (nullable = true)\n |-- NAME: string (nullable = true)\n |-- NOME_ARQUIVO_BRONZE: string (nullable = false)\n |-- DATA_HORA_SILVER: timestamp (nullable = false)\n\n\n=== Processando tabela: dlcs ===\nRegistros carregados: 2\nTabela dlcs salva na camada Silver\nEsquema da tabela dlcs:\nroot\n |-- ID: integer (nullable = true)\n |-- GAME_ID: integer (nullable = true)\n |-- TITLE: string (nullable = true)\n |-- NOME_ARQUIVO_BRONZE: string (nullable = false)\n |-- DATA_HORA_SILVER: timestamp (nullable = false)\n\n\n=== Processando tabela: game_genders ===\nRegistros carregados: 2\nTabela game_genders salva na camada Silver\nEsquema da tabela game_genders:\nroot\n |-- ID: integer (nullable = true)\n |-- GAME_ID: integer (nullable = true)\n |-- GENDER_ID: integer (nullable = true)\n |-- NOME_ARQUIVO_BRONZE: string (nullable = false)\n |-- DATA_HORA_SILVER: timestamp (nullable = false)\n\n\n=== Processando tabela: game_platforms ===\nRegistros carregados: 2\nTabela game_platforms salva na camada Silver\nEsquema da tabela game_platforms:\nroot\n |-- ID: integer (nullable = true)\n |-- GAME_ID: integer (nullable = true)\n |-- PLATFORM_ID: integer (nullable = true)\n |-- NOME_ARQUIVO_BRONZE: string (nullable = false)\n |-- DATA_HORA_SILVER: timestamp (nullable = false)\n\n\n=== Processando tabela: game_tags ===\nRegistros carregados: 2\nTabela game_tags salva na camada Silver\nEsquema da tabela game_tags:\nroot\n |-- ID: integer (nullable = true)\n |-- GAME_ID: integer (nullable = true)\n |-- TAG_ID: integer (nullable = true)\n |-- NOME_ARQUIVO_BRONZE: string (nullable = false)\n |-- DATA_HORA_SILVER: timestamp (nullable = false)\n\n\n=== Processando tabela: games ===\nRegistros carregados: 2\nTabela games salva na camada Silver\nEsquema da tabela games:\nroot\n |-- ID: integer (nullable = true)\n |-- TITLE: string (nullable = true)\n |-- DEVELOPER_ID: integer (nullable = true)\n |-- NOME_ARQUIVO_BRONZE: string (nullable = false)\n |-- DATA_HORA_SILVER: timestamp (nullable = false)\n\n\n=== Processando tabela: genders ===\nRegistros carregados: 2\nTabela genders salva na camada Silver\nEsquema da tabela genders:\nroot\n |-- ID: integer (nullable = true)\n |-- NAME: string (nullable = true)\n |-- NOME_ARQUIVO_BRONZE: string (nullable = false)\n |-- DATA_HORA_SILVER: timestamp (nullable = false)\n\n\n=== Processando tabela: platforms ===\nRegistros carregados: 2\nTabela platforms salva na camada Silver\nEsquema da tabela platforms:\nroot\n |-- ID: integer (nullable = true)\n |-- NAME: string (nullable = true)\n |-- NOME_ARQUIVO_BRONZE: string (nullable = false)\n |-- DATA_HORA_SILVER: timestamp (nullable = false)\n\n\n=== Processando tabela: purchases ===\nRegistros carregados: 2\nTabela purchases salva na camada Silver\nEsquema da tabela purchases:\nroot\n |-- ID: integer (nullable = true)\n |-- USER_ID: integer (nullable = true)\n |-- GAME_ID: integer (nullable = true)\n |-- PURCHASE_DATE: date (nullable = true)\n |-- NOME_ARQUIVO_BRONZE: string (nullable = false)\n |-- DATA_HORA_SILVER: timestamp (nullable = false)\n\n\n=== Processando tabela: reviews ===\nRegistros carregados: 2\nTabela reviews salva na camada Silver\nEsquema da tabela reviews:\nroot\n |-- ID: integer (nullable = true)\n |-- USER_ID: integer (nullable = true)\n |-- GAME_ID: integer (nullable = true)\n |-- RATING: integer (nullable = true)\n |-- COMMENT: string (nullable = true)\n |-- NOME_ARQUIVO_BRONZE: string (nullable = false)\n |-- DATA_HORA_SILVER: timestamp (nullable = false)\n\n\n=== Processando tabela: tags ===\nRegistros carregados: 2\nTabela tags salva na camada Silver\nEsquema da tabela tags:\nroot\n |-- ID: integer (nullable = true)\n |-- NAME: string (nullable = true)\n |-- NOME_ARQUIVO_BRONZE: string (nullable = false)\n |-- DATA_HORA_SILVER: timestamp (nullable = false)\n\n\n=== Processando tabela: users ===\nRegistros carregados: 2\nTabela users salva na camada Silver\nEsquema da tabela users:\nroot\n |-- ID: integer (nullable = true)\n |-- NAME: string (nullable = true)\n |-- EMAIL: string (nullable = true)\n |-- NOME_ARQUIVO_BRONZE: string (nullable = false)\n |-- DATA_HORA_SILVER: timestamp (nullable = false)\n\n"
     ]
    }
   ],
   "source": [
    "silver_tables = process_bronze_to_silver()"
   ]
  },
  {
   "cell_type": "markdown",
   "metadata": {
    "application/vnd.databricks.v1+cell": {
     "cellMetadata": {},
     "inputWidgets": {},
     "nuid": "6fc93c88-664e-49cf-a701-466f190b0460",
     "showTitle": false,
     "tableResultSettingsMap": {},
     "title": ""
    }
   },
   "source": [
    "## Validação dos dados processados na camada Silver"
   ]
  },
  {
   "cell_type": "code",
   "execution_count": 0,
   "metadata": {
    "application/vnd.databricks.v1+cell": {
     "cellMetadata": {
      "byteLimit": 2048000,
      "rowLimit": 10000
     },
     "inputWidgets": {},
     "nuid": "fe3402fd-2414-46ee-8183-2c3008e56f50",
     "showTitle": false,
     "tableResultSettingsMap": {},
     "title": ""
    }
   },
   "outputs": [
    {
     "output_type": "stream",
     "name": "stdout",
     "output_type": "stream",
     "text": [
      "=== VALIDAÇÃO CAMADA SILVER ===\n"
     ]
    },
    {
     "output_type": "display_data",
     "data": {
      "text/html": [
       "<style scoped>\n",
       "  .table-result-container {\n",
       "    max-height: 300px;\n",
       "    overflow: auto;\n",
       "  }\n",
       "  table, th, td {\n",
       "    border: 1px solid black;\n",
       "    border-collapse: collapse;\n",
       "  }\n",
       "  th, td {\n",
       "    padding: 5px;\n",
       "  }\n",
       "  th {\n",
       "    text-align: left;\n",
       "  }\n",
       "</style><div class='table-result-container'><table class='table-result'><thead style='background-color: white'><tr><th>path</th><th>name</th><th>size</th><th>modificationTime</th></tr></thead><tbody><tr><td>dbfs:/mnt/datalake7eadf73a479de9f7/silver/achievement_unlocked/</td><td>achievement_unlocked/</td><td>0</td><td>0</td></tr><tr><td>dbfs:/mnt/datalake7eadf73a479de9f7/silver/achievements/</td><td>achievements/</td><td>0</td><td>0</td></tr><tr><td>dbfs:/mnt/datalake7eadf73a479de9f7/silver/developers/</td><td>developers/</td><td>0</td><td>0</td></tr><tr><td>dbfs:/mnt/datalake7eadf73a479de9f7/silver/dlcs/</td><td>dlcs/</td><td>0</td><td>0</td></tr><tr><td>dbfs:/mnt/datalake7eadf73a479de9f7/silver/game_genders/</td><td>game_genders/</td><td>0</td><td>0</td></tr><tr><td>dbfs:/mnt/datalake7eadf73a479de9f7/silver/game_platforms/</td><td>game_platforms/</td><td>0</td><td>0</td></tr><tr><td>dbfs:/mnt/datalake7eadf73a479de9f7/silver/game_tags/</td><td>game_tags/</td><td>0</td><td>0</td></tr><tr><td>dbfs:/mnt/datalake7eadf73a479de9f7/silver/games/</td><td>games/</td><td>0</td><td>0</td></tr><tr><td>dbfs:/mnt/datalake7eadf73a479de9f7/silver/genders/</td><td>genders/</td><td>0</td><td>0</td></tr><tr><td>dbfs:/mnt/datalake7eadf73a479de9f7/silver/platforms/</td><td>platforms/</td><td>0</td><td>0</td></tr><tr><td>dbfs:/mnt/datalake7eadf73a479de9f7/silver/purchases/</td><td>purchases/</td><td>0</td><td>0</td></tr><tr><td>dbfs:/mnt/datalake7eadf73a479de9f7/silver/reviews/</td><td>reviews/</td><td>0</td><td>0</td></tr><tr><td>dbfs:/mnt/datalake7eadf73a479de9f7/silver/tags/</td><td>tags/</td><td>0</td><td>0</td></tr><tr><td>dbfs:/mnt/datalake7eadf73a479de9f7/silver/users/</td><td>users/</td><td>0</td><td>0</td></tr></tbody></table></div>"
      ]
     },
     "metadata": {
      "application/vnd.databricks.v1+output": {
       "addedWidgets": {},
       "aggData": [],
       "aggError": "",
       "aggOverflow": false,
       "aggSchema": [],
       "aggSeriesLimitReached": false,
       "aggType": "",
       "arguments": {},
       "columnCustomDisplayInfos": {},
       "data": [
        [
         "dbfs:/mnt/datalake7eadf73a479de9f7/silver/achievement_unlocked/",
         "achievement_unlocked/",
         0,
         0
        ],
        [
         "dbfs:/mnt/datalake7eadf73a479de9f7/silver/achievements/",
         "achievements/",
         0,
         0
        ],
        [
         "dbfs:/mnt/datalake7eadf73a479de9f7/silver/developers/",
         "developers/",
         0,
         0
        ],
        [
         "dbfs:/mnt/datalake7eadf73a479de9f7/silver/dlcs/",
         "dlcs/",
         0,
         0
        ],
        [
         "dbfs:/mnt/datalake7eadf73a479de9f7/silver/game_genders/",
         "game_genders/",
         0,
         0
        ],
        [
         "dbfs:/mnt/datalake7eadf73a479de9f7/silver/game_platforms/",
         "game_platforms/",
         0,
         0
        ],
        [
         "dbfs:/mnt/datalake7eadf73a479de9f7/silver/game_tags/",
         "game_tags/",
         0,
         0
        ],
        [
         "dbfs:/mnt/datalake7eadf73a479de9f7/silver/games/",
         "games/",
         0,
         0
        ],
        [
         "dbfs:/mnt/datalake7eadf73a479de9f7/silver/genders/",
         "genders/",
         0,
         0
        ],
        [
         "dbfs:/mnt/datalake7eadf73a479de9f7/silver/platforms/",
         "platforms/",
         0,
         0
        ],
        [
         "dbfs:/mnt/datalake7eadf73a479de9f7/silver/purchases/",
         "purchases/",
         0,
         0
        ],
        [
         "dbfs:/mnt/datalake7eadf73a479de9f7/silver/reviews/",
         "reviews/",
         0,
         0
        ],
        [
         "dbfs:/mnt/datalake7eadf73a479de9f7/silver/tags/",
         "tags/",
         0,
         0
        ],
        [
         "dbfs:/mnt/datalake7eadf73a479de9f7/silver/users/",
         "users/",
         0,
         0
        ]
       ],
       "datasetInfos": [],
       "dbfsResultPath": null,
       "isJsonSchema": true,
       "metadata": {},
       "overflow": false,
       "plotOptions": {
        "customPlotOptions": {},
        "displayType": "table",
        "pivotAggregation": null,
        "pivotColumns": null,
        "xColumns": null,
        "yColumns": null
       },
       "removedWidgets": [],
       "schema": [
        {
         "metadata": "{}",
         "name": "path",
         "type": "\"string\""
        },
        {
         "metadata": "{}",
         "name": "name",
         "type": "\"string\""
        },
        {
         "metadata": "{}",
         "name": "size",
         "type": "\"long\""
        },
        {
         "metadata": "{}",
         "name": "modificationTime",
         "type": "\"long\""
        }
       ],
       "type": "table"
      }
     },
     "output_type": "display_data"
    }
   ],
   "source": [
    "print(\"=== VALIDAÇÃO CAMADA SILVER ===\")\n",
    "display(dbutils.fs.ls(f\"/mnt/{storageAccountName}/silver\"))"
   ]
  },
  {
   "cell_type": "markdown",
   "metadata": {
    "application/vnd.databricks.v1+cell": {
     "cellMetadata": {},
     "inputWidgets": {},
     "nuid": "de751b35-6226-4797-be03-74f4ae6dac50",
     "showTitle": false,
     "tableResultSettingsMap": {},
     "title": ""
    }
   },
   "source": [
    "## Função para validar tabelas Silver"
   ]
  },
  {
   "cell_type": "code",
   "execution_count": 0,
   "metadata": {
    "application/vnd.databricks.v1+cell": {
     "cellMetadata": {
      "byteLimit": 2048000,
      "rowLimit": 10000
     },
     "inputWidgets": {},
     "nuid": "2461bb1a-1f07-4835-8d13-0490c870a1ba",
     "showTitle": false,
     "tableResultSettingsMap": {},
     "title": ""
    }
   },
   "outputs": [],
   "source": [
    "def validar_tabelas_silver():\n",
    "    \"\"\"Valida as tabelas criadas na camada Silver\"\"\"\n",
    "    \n",
    "    silver_path = f\"/mnt/{storageAccountName}/silver\"\n",
    "    \n",
    "    try:\n",
    "        silver_dirs = dbutils.fs.ls(silver_path)\n",
    "        \n",
    "        for dir_info in silver_dirs:\n",
    "            if dir_info.isDir():\n",
    "                table_name = dir_info.name.rstrip('/')\n",
    "                print(f\"\\n=== Validação: {table_name} ===\")\n",
    "                \n",
    "                df = spark.read.format('delta').load(dir_info.path)\n",
    "                print(f\"Total de registros: {df.count()}\")\n",
    "                print(f\"Colunas: {df.columns}\")\n",
    "                \n",
    "                # Mostrar primeiras linhas\n",
    "                print(f\"Primeiras 5 linhas da tabela {table_name}:\")\n",
    "                df.limit(5).display()\n",
    "                \n",
    "    except Exception as e:\n",
    "        print(f\"Erro na validação: {str(e)}\")"
   ]
  },
  {
   "cell_type": "markdown",
   "metadata": {
    "application/vnd.databricks.v1+cell": {
     "cellMetadata": {},
     "inputWidgets": {},
     "nuid": "44f46f4f-5be1-4a50-ad59-1e27de373ddb",
     "showTitle": false,
     "tableResultSettingsMap": {},
     "title": ""
    }
   },
   "source": [
    "## Executando validação das tabelas Silver"
   ]
  },
  {
   "cell_type": "code",
   "execution_count": 0,
   "metadata": {
    "application/vnd.databricks.v1+cell": {
     "cellMetadata": {
      "byteLimit": 2048000,
      "rowLimit": 10000
     },
     "inputWidgets": {},
     "nuid": "5818c725-a829-4b4e-ad27-30b0d517419e",
     "showTitle": false,
     "tableResultSettingsMap": {},
     "title": ""
    }
   },
   "outputs": [
    {
     "output_type": "stream",
     "name": "stdout",
     "output_type": "stream",
     "text": [
      "\n=== Validação: achievement_unlocked ===\nTotal de registros: 2\nColunas: ['ID', 'USER_ID', 'ACHIEVEMENT_ID', 'NOME_ARQUIVO_BRONZE', 'DATA_HORA_SILVER']\nPrimeiras 5 linhas da tabela achievement_unlocked:\n"
     ]
    },
    {
     "output_type": "display_data",
     "data": {
      "text/html": [
       "<style scoped>\n",
       "  .table-result-container {\n",
       "    max-height: 300px;\n",
       "    overflow: auto;\n",
       "  }\n",
       "  table, th, td {\n",
       "    border: 1px solid black;\n",
       "    border-collapse: collapse;\n",
       "  }\n",
       "  th, td {\n",
       "    padding: 5px;\n",
       "  }\n",
       "  th {\n",
       "    text-align: left;\n",
       "  }\n",
       "</style><div class='table-result-container'><table class='table-result'><thead style='background-color: white'><tr><th>ID</th><th>USER_ID</th><th>ACHIEVEMENT_ID</th><th>NOME_ARQUIVO_BRONZE</th><th>DATA_HORA_SILVER</th></tr></thead><tbody><tr><td>1</td><td>1</td><td>1</td><td>achievement_unlocked</td><td>2025-06-15T21:31:28.960+0000</td></tr><tr><td>2</td><td>2</td><td>2</td><td>achievement_unlocked</td><td>2025-06-15T21:31:28.960+0000</td></tr></tbody></table></div>"
      ]
     },
     "metadata": {
      "application/vnd.databricks.v1+output": {
       "addedWidgets": {},
       "aggData": [],
       "aggError": "",
       "aggOverflow": false,
       "aggSchema": [],
       "aggSeriesLimitReached": false,
       "aggType": "",
       "arguments": {},
       "columnCustomDisplayInfos": {},
       "data": [
        [
         1,
         1,
         1,
         "achievement_unlocked",
         "2025-06-15T21:31:28.960+0000"
        ],
        [
         2,
         2,
         2,
         "achievement_unlocked",
         "2025-06-15T21:31:28.960+0000"
        ]
       ],
       "datasetInfos": [],
       "dbfsResultPath": null,
       "isJsonSchema": true,
       "metadata": {},
       "overflow": false,
       "plotOptions": {
        "customPlotOptions": {},
        "displayType": "table",
        "pivotAggregation": null,
        "pivotColumns": null,
        "xColumns": null,
        "yColumns": null
       },
       "removedWidgets": [],
       "schema": [
        {
         "metadata": "{}",
         "name": "ID",
         "type": "\"integer\""
        },
        {
         "metadata": "{}",
         "name": "USER_ID",
         "type": "\"integer\""
        },
        {
         "metadata": "{}",
         "name": "ACHIEVEMENT_ID",
         "type": "\"integer\""
        },
        {
         "metadata": "{}",
         "name": "NOME_ARQUIVO_BRONZE",
         "type": "\"string\""
        },
        {
         "metadata": "{}",
         "name": "DATA_HORA_SILVER",
         "type": "\"timestamp\""
        }
       ],
       "type": "table"
      }
     },
     "output_type": "display_data"
    },
    {
     "output_type": "stream",
     "name": "stdout",
     "output_type": "stream",
     "text": [
      "\n=== Validação: achievements ===\nTotal de registros: 2\nColunas: ['ID', 'GAME_ID', 'TITLE', 'DESCRIPTION', 'NOME_ARQUIVO_BRONZE', 'DATA_HORA_SILVER']\nPrimeiras 5 linhas da tabela achievements:\n"
     ]
    },
    {
     "output_type": "display_data",
     "data": {
      "text/html": [
       "<style scoped>\n",
       "  .table-result-container {\n",
       "    max-height: 300px;\n",
       "    overflow: auto;\n",
       "  }\n",
       "  table, th, td {\n",
       "    border: 1px solid black;\n",
       "    border-collapse: collapse;\n",
       "  }\n",
       "  th, td {\n",
       "    padding: 5px;\n",
       "  }\n",
       "  th {\n",
       "    text-align: left;\n",
       "  }\n",
       "</style><div class='table-result-container'><table class='table-result'><thead style='background-color: white'><tr><th>ID</th><th>GAME_ID</th><th>TITLE</th><th>DESCRIPTION</th><th>NOME_ARQUIVO_BRONZE</th><th>DATA_HORA_SILVER</th></tr></thead><tbody><tr><td>1</td><td>1</td><td>Dragon Slayer</td><td>Defeat a dragon</td><td>achievements</td><td>2025-06-15T21:31:36.389+0000</td></tr><tr><td>2</td><td>2</td><td>Escape Hell</td><td>Complete the game</td><td>achievements</td><td>2025-06-15T21:31:36.389+0000</td></tr></tbody></table></div>"
      ]
     },
     "metadata": {
      "application/vnd.databricks.v1+output": {
       "addedWidgets": {},
       "aggData": [],
       "aggError": "",
       "aggOverflow": false,
       "aggSchema": [],
       "aggSeriesLimitReached": false,
       "aggType": "",
       "arguments": {},
       "columnCustomDisplayInfos": {},
       "data": [
        [
         1,
         1,
         "Dragon Slayer",
         "Defeat a dragon",
         "achievements",
         "2025-06-15T21:31:36.389+0000"
        ],
        [
         2,
         2,
         "Escape Hell",
         "Complete the game",
         "achievements",
         "2025-06-15T21:31:36.389+0000"
        ]
       ],
       "datasetInfos": [],
       "dbfsResultPath": null,
       "isJsonSchema": true,
       "metadata": {},
       "overflow": false,
       "plotOptions": {
        "customPlotOptions": {},
        "displayType": "table",
        "pivotAggregation": null,
        "pivotColumns": null,
        "xColumns": null,
        "yColumns": null
       },
       "removedWidgets": [],
       "schema": [
        {
         "metadata": "{}",
         "name": "ID",
         "type": "\"integer\""
        },
        {
         "metadata": "{}",
         "name": "GAME_ID",
         "type": "\"integer\""
        },
        {
         "metadata": "{}",
         "name": "TITLE",
         "type": "\"string\""
        },
        {
         "metadata": "{}",
         "name": "DESCRIPTION",
         "type": "\"string\""
        },
        {
         "metadata": "{}",
         "name": "NOME_ARQUIVO_BRONZE",
         "type": "\"string\""
        },
        {
         "metadata": "{}",
         "name": "DATA_HORA_SILVER",
         "type": "\"timestamp\""
        }
       ],
       "type": "table"
      }
     },
     "output_type": "display_data"
    },
    {
     "output_type": "stream",
     "name": "stdout",
     "output_type": "stream",
     "text": [
      "\n=== Validação: developers ===\nTotal de registros: 2\nColunas: ['ID', 'NAME', 'NOME_ARQUIVO_BRONZE', 'DATA_HORA_SILVER']\nPrimeiras 5 linhas da tabela developers:\n"
     ]
    },
    {
     "output_type": "display_data",
     "data": {
      "text/html": [
       "<style scoped>\n",
       "  .table-result-container {\n",
       "    max-height: 300px;\n",
       "    overflow: auto;\n",
       "  }\n",
       "  table, th, td {\n",
       "    border: 1px solid black;\n",
       "    border-collapse: collapse;\n",
       "  }\n",
       "  th, td {\n",
       "    padding: 5px;\n",
       "  }\n",
       "  th {\n",
       "    text-align: left;\n",
       "  }\n",
       "</style><div class='table-result-container'><table class='table-result'><thead style='background-color: white'><tr><th>ID</th><th>NAME</th><th>NOME_ARQUIVO_BRONZE</th><th>DATA_HORA_SILVER</th></tr></thead><tbody><tr><td>1</td><td>Bethesda</td><td>developers</td><td>2025-06-15T21:31:43.092+0000</td></tr><tr><td>2</td><td>Supergiant Games</td><td>developers</td><td>2025-06-15T21:31:43.092+0000</td></tr></tbody></table></div>"
      ]
     },
     "metadata": {
      "application/vnd.databricks.v1+output": {
       "addedWidgets": {},
       "aggData": [],
       "aggError": "",
       "aggOverflow": false,
       "aggSchema": [],
       "aggSeriesLimitReached": false,
       "aggType": "",
       "arguments": {},
       "columnCustomDisplayInfos": {},
       "data": [
        [
         1,
         "Bethesda",
         "developers",
         "2025-06-15T21:31:43.092+0000"
        ],
        [
         2,
         "Supergiant Games",
         "developers",
         "2025-06-15T21:31:43.092+0000"
        ]
       ],
       "datasetInfos": [],
       "dbfsResultPath": null,
       "isJsonSchema": true,
       "metadata": {},
       "overflow": false,
       "plotOptions": {
        "customPlotOptions": {},
        "displayType": "table",
        "pivotAggregation": null,
        "pivotColumns": null,
        "xColumns": null,
        "yColumns": null
       },
       "removedWidgets": [],
       "schema": [
        {
         "metadata": "{}",
         "name": "ID",
         "type": "\"integer\""
        },
        {
         "metadata": "{}",
         "name": "NAME",
         "type": "\"string\""
        },
        {
         "metadata": "{}",
         "name": "NOME_ARQUIVO_BRONZE",
         "type": "\"string\""
        },
        {
         "metadata": "{}",
         "name": "DATA_HORA_SILVER",
         "type": "\"timestamp\""
        }
       ],
       "type": "table"
      }
     },
     "output_type": "display_data"
    },
    {
     "output_type": "stream",
     "name": "stdout",
     "output_type": "stream",
     "text": [
      "\n=== Validação: dlcs ===\nTotal de registros: 2\nColunas: ['ID', 'GAME_ID', 'TITLE', 'NOME_ARQUIVO_BRONZE', 'DATA_HORA_SILVER']\nPrimeiras 5 linhas da tabela dlcs:\n"
     ]
    },
    {
     "output_type": "display_data",
     "data": {
      "text/html": [
       "<style scoped>\n",
       "  .table-result-container {\n",
       "    max-height: 300px;\n",
       "    overflow: auto;\n",
       "  }\n",
       "  table, th, td {\n",
       "    border: 1px solid black;\n",
       "    border-collapse: collapse;\n",
       "  }\n",
       "  th, td {\n",
       "    padding: 5px;\n",
       "  }\n",
       "  th {\n",
       "    text-align: left;\n",
       "  }\n",
       "</style><div class='table-result-container'><table class='table-result'><thead style='background-color: white'><tr><th>ID</th><th>GAME_ID</th><th>TITLE</th><th>NOME_ARQUIVO_BRONZE</th><th>DATA_HORA_SILVER</th></tr></thead><tbody><tr><td>1</td><td>1</td><td>Dawnguard</td><td>dlcs</td><td>2025-06-15T21:31:49.519+0000</td></tr><tr><td>2</td><td>2</td><td>The Blood Price</td><td>dlcs</td><td>2025-06-15T21:31:49.519+0000</td></tr></tbody></table></div>"
      ]
     },
     "metadata": {
      "application/vnd.databricks.v1+output": {
       "addedWidgets": {},
       "aggData": [],
       "aggError": "",
       "aggOverflow": false,
       "aggSchema": [],
       "aggSeriesLimitReached": false,
       "aggType": "",
       "arguments": {},
       "columnCustomDisplayInfos": {},
       "data": [
        [
         1,
         1,
         "Dawnguard",
         "dlcs",
         "2025-06-15T21:31:49.519+0000"
        ],
        [
         2,
         2,
         "The Blood Price",
         "dlcs",
         "2025-06-15T21:31:49.519+0000"
        ]
       ],
       "datasetInfos": [],
       "dbfsResultPath": null,
       "isJsonSchema": true,
       "metadata": {},
       "overflow": false,
       "plotOptions": {
        "customPlotOptions": {},
        "displayType": "table",
        "pivotAggregation": null,
        "pivotColumns": null,
        "xColumns": null,
        "yColumns": null
       },
       "removedWidgets": [],
       "schema": [
        {
         "metadata": "{}",
         "name": "ID",
         "type": "\"integer\""
        },
        {
         "metadata": "{}",
         "name": "GAME_ID",
         "type": "\"integer\""
        },
        {
         "metadata": "{}",
         "name": "TITLE",
         "type": "\"string\""
        },
        {
         "metadata": "{}",
         "name": "NOME_ARQUIVO_BRONZE",
         "type": "\"string\""
        },
        {
         "metadata": "{}",
         "name": "DATA_HORA_SILVER",
         "type": "\"timestamp\""
        }
       ],
       "type": "table"
      }
     },
     "output_type": "display_data"
    },
    {
     "output_type": "stream",
     "name": "stdout",
     "output_type": "stream",
     "text": [
      "\n=== Validação: game_genders ===\nTotal de registros: 2\nColunas: ['ID', 'GAME_ID', 'GENDER_ID', 'NOME_ARQUIVO_BRONZE', 'DATA_HORA_SILVER']\nPrimeiras 5 linhas da tabela game_genders:\n"
     ]
    },
    {
     "output_type": "display_data",
     "data": {
      "text/html": [
       "<style scoped>\n",
       "  .table-result-container {\n",
       "    max-height: 300px;\n",
       "    overflow: auto;\n",
       "  }\n",
       "  table, th, td {\n",
       "    border: 1px solid black;\n",
       "    border-collapse: collapse;\n",
       "  }\n",
       "  th, td {\n",
       "    padding: 5px;\n",
       "  }\n",
       "  th {\n",
       "    text-align: left;\n",
       "  }\n",
       "</style><div class='table-result-container'><table class='table-result'><thead style='background-color: white'><tr><th>ID</th><th>GAME_ID</th><th>GENDER_ID</th><th>NOME_ARQUIVO_BRONZE</th><th>DATA_HORA_SILVER</th></tr></thead><tbody><tr><td>1</td><td>1</td><td>1</td><td>game_genders</td><td>2025-06-15T21:31:56.423+0000</td></tr><tr><td>2</td><td>2</td><td>2</td><td>game_genders</td><td>2025-06-15T21:31:56.423+0000</td></tr></tbody></table></div>"
      ]
     },
     "metadata": {
      "application/vnd.databricks.v1+output": {
       "addedWidgets": {},
       "aggData": [],
       "aggError": "",
       "aggOverflow": false,
       "aggSchema": [],
       "aggSeriesLimitReached": false,
       "aggType": "",
       "arguments": {},
       "columnCustomDisplayInfos": {},
       "data": [
        [
         1,
         1,
         1,
         "game_genders",
         "2025-06-15T21:31:56.423+0000"
        ],
        [
         2,
         2,
         2,
         "game_genders",
         "2025-06-15T21:31:56.423+0000"
        ]
       ],
       "datasetInfos": [],
       "dbfsResultPath": null,
       "isJsonSchema": true,
       "metadata": {},
       "overflow": false,
       "plotOptions": {
        "customPlotOptions": {},
        "displayType": "table",
        "pivotAggregation": null,
        "pivotColumns": null,
        "xColumns": null,
        "yColumns": null
       },
       "removedWidgets": [],
       "schema": [
        {
         "metadata": "{}",
         "name": "ID",
         "type": "\"integer\""
        },
        {
         "metadata": "{}",
         "name": "GAME_ID",
         "type": "\"integer\""
        },
        {
         "metadata": "{}",
         "name": "GENDER_ID",
         "type": "\"integer\""
        },
        {
         "metadata": "{}",
         "name": "NOME_ARQUIVO_BRONZE",
         "type": "\"string\""
        },
        {
         "metadata": "{}",
         "name": "DATA_HORA_SILVER",
         "type": "\"timestamp\""
        }
       ],
       "type": "table"
      }
     },
     "output_type": "display_data"
    },
    {
     "output_type": "stream",
     "name": "stdout",
     "output_type": "stream",
     "text": [
      "\n=== Validação: game_platforms ===\nTotal de registros: 2\nColunas: ['ID', 'GAME_ID', 'PLATFORM_ID', 'NOME_ARQUIVO_BRONZE', 'DATA_HORA_SILVER']\nPrimeiras 5 linhas da tabela game_platforms:\n"
     ]
    },
    {
     "output_type": "display_data",
     "data": {
      "text/html": [
       "<style scoped>\n",
       "  .table-result-container {\n",
       "    max-height: 300px;\n",
       "    overflow: auto;\n",
       "  }\n",
       "  table, th, td {\n",
       "    border: 1px solid black;\n",
       "    border-collapse: collapse;\n",
       "  }\n",
       "  th, td {\n",
       "    padding: 5px;\n",
       "  }\n",
       "  th {\n",
       "    text-align: left;\n",
       "  }\n",
       "</style><div class='table-result-container'><table class='table-result'><thead style='background-color: white'><tr><th>ID</th><th>GAME_ID</th><th>PLATFORM_ID</th><th>NOME_ARQUIVO_BRONZE</th><th>DATA_HORA_SILVER</th></tr></thead><tbody><tr><td>1</td><td>1</td><td>1</td><td>game_platforms</td><td>2025-06-15T21:32:02.484+0000</td></tr><tr><td>2</td><td>2</td><td>1</td><td>game_platforms</td><td>2025-06-15T21:32:02.484+0000</td></tr></tbody></table></div>"
      ]
     },
     "metadata": {
      "application/vnd.databricks.v1+output": {
       "addedWidgets": {},
       "aggData": [],
       "aggError": "",
       "aggOverflow": false,
       "aggSchema": [],
       "aggSeriesLimitReached": false,
       "aggType": "",
       "arguments": {},
       "columnCustomDisplayInfos": {},
       "data": [
        [
         1,
         1,
         1,
         "game_platforms",
         "2025-06-15T21:32:02.484+0000"
        ],
        [
         2,
         2,
         1,
         "game_platforms",
         "2025-06-15T21:32:02.484+0000"
        ]
       ],
       "datasetInfos": [],
       "dbfsResultPath": null,
       "isJsonSchema": true,
       "metadata": {},
       "overflow": false,
       "plotOptions": {
        "customPlotOptions": {},
        "displayType": "table",
        "pivotAggregation": null,
        "pivotColumns": null,
        "xColumns": null,
        "yColumns": null
       },
       "removedWidgets": [],
       "schema": [
        {
         "metadata": "{}",
         "name": "ID",
         "type": "\"integer\""
        },
        {
         "metadata": "{}",
         "name": "GAME_ID",
         "type": "\"integer\""
        },
        {
         "metadata": "{}",
         "name": "PLATFORM_ID",
         "type": "\"integer\""
        },
        {
         "metadata": "{}",
         "name": "NOME_ARQUIVO_BRONZE",
         "type": "\"string\""
        },
        {
         "metadata": "{}",
         "name": "DATA_HORA_SILVER",
         "type": "\"timestamp\""
        }
       ],
       "type": "table"
      }
     },
     "output_type": "display_data"
    },
    {
     "output_type": "stream",
     "name": "stdout",
     "output_type": "stream",
     "text": [
      "\n=== Validação: game_tags ===\nTotal de registros: 2\nColunas: ['ID', 'GAME_ID', 'TAG_ID', 'NOME_ARQUIVO_BRONZE', 'DATA_HORA_SILVER']\nPrimeiras 5 linhas da tabela game_tags:\n"
     ]
    },
    {
     "output_type": "display_data",
     "data": {
      "text/html": [
       "<style scoped>\n",
       "  .table-result-container {\n",
       "    max-height: 300px;\n",
       "    overflow: auto;\n",
       "  }\n",
       "  table, th, td {\n",
       "    border: 1px solid black;\n",
       "    border-collapse: collapse;\n",
       "  }\n",
       "  th, td {\n",
       "    padding: 5px;\n",
       "  }\n",
       "  th {\n",
       "    text-align: left;\n",
       "  }\n",
       "</style><div class='table-result-container'><table class='table-result'><thead style='background-color: white'><tr><th>ID</th><th>GAME_ID</th><th>TAG_ID</th><th>NOME_ARQUIVO_BRONZE</th><th>DATA_HORA_SILVER</th></tr></thead><tbody><tr><td>1</td><td>1</td><td>1</td><td>game_tags</td><td>2025-06-15T21:32:09.477+0000</td></tr><tr><td>2</td><td>2</td><td>2</td><td>game_tags</td><td>2025-06-15T21:32:09.477+0000</td></tr></tbody></table></div>"
      ]
     },
     "metadata": {
      "application/vnd.databricks.v1+output": {
       "addedWidgets": {},
       "aggData": [],
       "aggError": "",
       "aggOverflow": false,
       "aggSchema": [],
       "aggSeriesLimitReached": false,
       "aggType": "",
       "arguments": {},
       "columnCustomDisplayInfos": {},
       "data": [
        [
         1,
         1,
         1,
         "game_tags",
         "2025-06-15T21:32:09.477+0000"
        ],
        [
         2,
         2,
         2,
         "game_tags",
         "2025-06-15T21:32:09.477+0000"
        ]
       ],
       "datasetInfos": [],
       "dbfsResultPath": null,
       "isJsonSchema": true,
       "metadata": {},
       "overflow": false,
       "plotOptions": {
        "customPlotOptions": {},
        "displayType": "table",
        "pivotAggregation": null,
        "pivotColumns": null,
        "xColumns": null,
        "yColumns": null
       },
       "removedWidgets": [],
       "schema": [
        {
         "metadata": "{}",
         "name": "ID",
         "type": "\"integer\""
        },
        {
         "metadata": "{}",
         "name": "GAME_ID",
         "type": "\"integer\""
        },
        {
         "metadata": "{}",
         "name": "TAG_ID",
         "type": "\"integer\""
        },
        {
         "metadata": "{}",
         "name": "NOME_ARQUIVO_BRONZE",
         "type": "\"string\""
        },
        {
         "metadata": "{}",
         "name": "DATA_HORA_SILVER",
         "type": "\"timestamp\""
        }
       ],
       "type": "table"
      }
     },
     "output_type": "display_data"
    },
    {
     "output_type": "stream",
     "name": "stdout",
     "output_type": "stream",
     "text": [
      "\n=== Validação: games ===\nTotal de registros: 2\nColunas: ['ID', 'TITLE', 'DEVELOPER_ID', 'NOME_ARQUIVO_BRONZE', 'DATA_HORA_SILVER']\nPrimeiras 5 linhas da tabela games:\n"
     ]
    },
    {
     "output_type": "display_data",
     "data": {
      "text/html": [
       "<style scoped>\n",
       "  .table-result-container {\n",
       "    max-height: 300px;\n",
       "    overflow: auto;\n",
       "  }\n",
       "  table, th, td {\n",
       "    border: 1px solid black;\n",
       "    border-collapse: collapse;\n",
       "  }\n",
       "  th, td {\n",
       "    padding: 5px;\n",
       "  }\n",
       "  th {\n",
       "    text-align: left;\n",
       "  }\n",
       "</style><div class='table-result-container'><table class='table-result'><thead style='background-color: white'><tr><th>ID</th><th>TITLE</th><th>DEVELOPER_ID</th><th>NOME_ARQUIVO_BRONZE</th><th>DATA_HORA_SILVER</th></tr></thead><tbody><tr><td>1</td><td>Elder Scrolls V: Skyrim</td><td>1</td><td>games</td><td>2025-06-15T21:32:15.893+0000</td></tr><tr><td>2</td><td>Hades</td><td>2</td><td>games</td><td>2025-06-15T21:32:15.893+0000</td></tr></tbody></table></div>"
      ]
     },
     "metadata": {
      "application/vnd.databricks.v1+output": {
       "addedWidgets": {},
       "aggData": [],
       "aggError": "",
       "aggOverflow": false,
       "aggSchema": [],
       "aggSeriesLimitReached": false,
       "aggType": "",
       "arguments": {},
       "columnCustomDisplayInfos": {},
       "data": [
        [
         1,
         "Elder Scrolls V: Skyrim",
         1,
         "games",
         "2025-06-15T21:32:15.893+0000"
        ],
        [
         2,
         "Hades",
         2,
         "games",
         "2025-06-15T21:32:15.893+0000"
        ]
       ],
       "datasetInfos": [],
       "dbfsResultPath": null,
       "isJsonSchema": true,
       "metadata": {},
       "overflow": false,
       "plotOptions": {
        "customPlotOptions": {},
        "displayType": "table",
        "pivotAggregation": null,
        "pivotColumns": null,
        "xColumns": null,
        "yColumns": null
       },
       "removedWidgets": [],
       "schema": [
        {
         "metadata": "{}",
         "name": "ID",
         "type": "\"integer\""
        },
        {
         "metadata": "{}",
         "name": "TITLE",
         "type": "\"string\""
        },
        {
         "metadata": "{}",
         "name": "DEVELOPER_ID",
         "type": "\"integer\""
        },
        {
         "metadata": "{}",
         "name": "NOME_ARQUIVO_BRONZE",
         "type": "\"string\""
        },
        {
         "metadata": "{}",
         "name": "DATA_HORA_SILVER",
         "type": "\"timestamp\""
        }
       ],
       "type": "table"
      }
     },
     "output_type": "display_data"
    },
    {
     "output_type": "stream",
     "name": "stdout",
     "output_type": "stream",
     "text": [
      "\n=== Validação: genders ===\nTotal de registros: 2\nColunas: ['ID', 'NAME', 'NOME_ARQUIVO_BRONZE', 'DATA_HORA_SILVER']\nPrimeiras 5 linhas da tabela genders:\n"
     ]
    },
    {
     "output_type": "display_data",
     "data": {
      "text/html": [
       "<style scoped>\n",
       "  .table-result-container {\n",
       "    max-height: 300px;\n",
       "    overflow: auto;\n",
       "  }\n",
       "  table, th, td {\n",
       "    border: 1px solid black;\n",
       "    border-collapse: collapse;\n",
       "  }\n",
       "  th, td {\n",
       "    padding: 5px;\n",
       "  }\n",
       "  th {\n",
       "    text-align: left;\n",
       "  }\n",
       "</style><div class='table-result-container'><table class='table-result'><thead style='background-color: white'><tr><th>ID</th><th>NAME</th><th>NOME_ARQUIVO_BRONZE</th><th>DATA_HORA_SILVER</th></tr></thead><tbody><tr><td>1</td><td>RPG</td><td>genders</td><td>2025-06-15T21:32:22.915+0000</td></tr><tr><td>2</td><td>Action</td><td>genders</td><td>2025-06-15T21:32:22.915+0000</td></tr></tbody></table></div>"
      ]
     },
     "metadata": {
      "application/vnd.databricks.v1+output": {
       "addedWidgets": {},
       "aggData": [],
       "aggError": "",
       "aggOverflow": false,
       "aggSchema": [],
       "aggSeriesLimitReached": false,
       "aggType": "",
       "arguments": {},
       "columnCustomDisplayInfos": {},
       "data": [
        [
         1,
         "RPG",
         "genders",
         "2025-06-15T21:32:22.915+0000"
        ],
        [
         2,
         "Action",
         "genders",
         "2025-06-15T21:32:22.915+0000"
        ]
       ],
       "datasetInfos": [],
       "dbfsResultPath": null,
       "isJsonSchema": true,
       "metadata": {},
       "overflow": false,
       "plotOptions": {
        "customPlotOptions": {},
        "displayType": "table",
        "pivotAggregation": null,
        "pivotColumns": null,
        "xColumns": null,
        "yColumns": null
       },
       "removedWidgets": [],
       "schema": [
        {
         "metadata": "{}",
         "name": "ID",
         "type": "\"integer\""
        },
        {
         "metadata": "{}",
         "name": "NAME",
         "type": "\"string\""
        },
        {
         "metadata": "{}",
         "name": "NOME_ARQUIVO_BRONZE",
         "type": "\"string\""
        },
        {
         "metadata": "{}",
         "name": "DATA_HORA_SILVER",
         "type": "\"timestamp\""
        }
       ],
       "type": "table"
      }
     },
     "output_type": "display_data"
    },
    {
     "output_type": "stream",
     "name": "stdout",
     "output_type": "stream",
     "text": [
      "\n=== Validação: platforms ===\nTotal de registros: 2\nColunas: ['ID', 'NAME', 'NOME_ARQUIVO_BRONZE', 'DATA_HORA_SILVER']\nPrimeiras 5 linhas da tabela platforms:\n"
     ]
    },
    {
     "output_type": "display_data",
     "data": {
      "text/html": [
       "<style scoped>\n",
       "  .table-result-container {\n",
       "    max-height: 300px;\n",
       "    overflow: auto;\n",
       "  }\n",
       "  table, th, td {\n",
       "    border: 1px solid black;\n",
       "    border-collapse: collapse;\n",
       "  }\n",
       "  th, td {\n",
       "    padding: 5px;\n",
       "  }\n",
       "  th {\n",
       "    text-align: left;\n",
       "  }\n",
       "</style><div class='table-result-container'><table class='table-result'><thead style='background-color: white'><tr><th>ID</th><th>NAME</th><th>NOME_ARQUIVO_BRONZE</th><th>DATA_HORA_SILVER</th></tr></thead><tbody><tr><td>1</td><td>PC</td><td>platforms</td><td>2025-06-15T21:32:29.166+0000</td></tr><tr><td>2</td><td>PlayStation</td><td>platforms</td><td>2025-06-15T21:32:29.166+0000</td></tr></tbody></table></div>"
      ]
     },
     "metadata": {
      "application/vnd.databricks.v1+output": {
       "addedWidgets": {},
       "aggData": [],
       "aggError": "",
       "aggOverflow": false,
       "aggSchema": [],
       "aggSeriesLimitReached": false,
       "aggType": "",
       "arguments": {},
       "columnCustomDisplayInfos": {},
       "data": [
        [
         1,
         "PC",
         "platforms",
         "2025-06-15T21:32:29.166+0000"
        ],
        [
         2,
         "PlayStation",
         "platforms",
         "2025-06-15T21:32:29.166+0000"
        ]
       ],
       "datasetInfos": [],
       "dbfsResultPath": null,
       "isJsonSchema": true,
       "metadata": {},
       "overflow": false,
       "plotOptions": {
        "customPlotOptions": {},
        "displayType": "table",
        "pivotAggregation": null,
        "pivotColumns": null,
        "xColumns": null,
        "yColumns": null
       },
       "removedWidgets": [],
       "schema": [
        {
         "metadata": "{}",
         "name": "ID",
         "type": "\"integer\""
        },
        {
         "metadata": "{}",
         "name": "NAME",
         "type": "\"string\""
        },
        {
         "metadata": "{}",
         "name": "NOME_ARQUIVO_BRONZE",
         "type": "\"string\""
        },
        {
         "metadata": "{}",
         "name": "DATA_HORA_SILVER",
         "type": "\"timestamp\""
        }
       ],
       "type": "table"
      }
     },
     "output_type": "display_data"
    },
    {
     "output_type": "stream",
     "name": "stdout",
     "output_type": "stream",
     "text": [
      "\n=== Validação: purchases ===\nTotal de registros: 2\nColunas: ['ID', 'USER_ID', 'GAME_ID', 'PURCHASE_DATE', 'NOME_ARQUIVO_BRONZE', 'DATA_HORA_SILVER']\nPrimeiras 5 linhas da tabela purchases:\n"
     ]
    },
    {
     "output_type": "display_data",
     "data": {
      "text/html": [
       "<style scoped>\n",
       "  .table-result-container {\n",
       "    max-height: 300px;\n",
       "    overflow: auto;\n",
       "  }\n",
       "  table, th, td {\n",
       "    border: 1px solid black;\n",
       "    border-collapse: collapse;\n",
       "  }\n",
       "  th, td {\n",
       "    padding: 5px;\n",
       "  }\n",
       "  th {\n",
       "    text-align: left;\n",
       "  }\n",
       "</style><div class='table-result-container'><table class='table-result'><thead style='background-color: white'><tr><th>ID</th><th>USER_ID</th><th>GAME_ID</th><th>PURCHASE_DATE</th><th>NOME_ARQUIVO_BRONZE</th><th>DATA_HORA_SILVER</th></tr></thead><tbody><tr><td>1</td><td>1</td><td>1</td><td>2023-01-15</td><td>purchases</td><td>2025-06-15T21:32:35.931+0000</td></tr><tr><td>2</td><td>2</td><td>2</td><td>2023-02-20</td><td>purchases</td><td>2025-06-15T21:32:35.931+0000</td></tr></tbody></table></div>"
      ]
     },
     "metadata": {
      "application/vnd.databricks.v1+output": {
       "addedWidgets": {},
       "aggData": [],
       "aggError": "",
       "aggOverflow": false,
       "aggSchema": [],
       "aggSeriesLimitReached": false,
       "aggType": "",
       "arguments": {},
       "columnCustomDisplayInfos": {},
       "data": [
        [
         1,
         1,
         1,
         "2023-01-15",
         "purchases",
         "2025-06-15T21:32:35.931+0000"
        ],
        [
         2,
         2,
         2,
         "2023-02-20",
         "purchases",
         "2025-06-15T21:32:35.931+0000"
        ]
       ],
       "datasetInfos": [],
       "dbfsResultPath": null,
       "isJsonSchema": true,
       "metadata": {},
       "overflow": false,
       "plotOptions": {
        "customPlotOptions": {},
        "displayType": "table",
        "pivotAggregation": null,
        "pivotColumns": null,
        "xColumns": null,
        "yColumns": null
       },
       "removedWidgets": [],
       "schema": [
        {
         "metadata": "{}",
         "name": "ID",
         "type": "\"integer\""
        },
        {
         "metadata": "{}",
         "name": "USER_ID",
         "type": "\"integer\""
        },
        {
         "metadata": "{}",
         "name": "GAME_ID",
         "type": "\"integer\""
        },
        {
         "metadata": "{\"__detected_date_formats\":\"yyyy-M-d\"}",
         "name": "PURCHASE_DATE",
         "type": "\"date\""
        },
        {
         "metadata": "{}",
         "name": "NOME_ARQUIVO_BRONZE",
         "type": "\"string\""
        },
        {
         "metadata": "{}",
         "name": "DATA_HORA_SILVER",
         "type": "\"timestamp\""
        }
       ],
       "type": "table"
      }
     },
     "output_type": "display_data"
    },
    {
     "output_type": "stream",
     "name": "stdout",
     "output_type": "stream",
     "text": [
      "\n=== Validação: reviews ===\nTotal de registros: 2\nColunas: ['ID', 'USER_ID', 'GAME_ID', 'RATING', 'COMMENT', 'NOME_ARQUIVO_BRONZE', 'DATA_HORA_SILVER']\nPrimeiras 5 linhas da tabela reviews:\n"
     ]
    },
    {
     "output_type": "display_data",
     "data": {
      "text/html": [
       "<style scoped>\n",
       "  .table-result-container {\n",
       "    max-height: 300px;\n",
       "    overflow: auto;\n",
       "  }\n",
       "  table, th, td {\n",
       "    border: 1px solid black;\n",
       "    border-collapse: collapse;\n",
       "  }\n",
       "  th, td {\n",
       "    padding: 5px;\n",
       "  }\n",
       "  th {\n",
       "    text-align: left;\n",
       "  }\n",
       "</style><div class='table-result-container'><table class='table-result'><thead style='background-color: white'><tr><th>ID</th><th>USER_ID</th><th>GAME_ID</th><th>RATING</th><th>COMMENT</th><th>NOME_ARQUIVO_BRONZE</th><th>DATA_HORA_SILVER</th></tr></thead><tbody><tr><td>1</td><td>1</td><td>1</td><td>9</td><td>Amazing RPG!</td><td>reviews</td><td>2025-06-15T21:32:43.042+0000</td></tr><tr><td>2</td><td>2</td><td>2</td><td>8</td><td>Very fun gameplay.</td><td>reviews</td><td>2025-06-15T21:32:43.042+0000</td></tr></tbody></table></div>"
      ]
     },
     "metadata": {
      "application/vnd.databricks.v1+output": {
       "addedWidgets": {},
       "aggData": [],
       "aggError": "",
       "aggOverflow": false,
       "aggSchema": [],
       "aggSeriesLimitReached": false,
       "aggType": "",
       "arguments": {},
       "columnCustomDisplayInfos": {},
       "data": [
        [
         1,
         1,
         1,
         9,
         "Amazing RPG!",
         "reviews",
         "2025-06-15T21:32:43.042+0000"
        ],
        [
         2,
         2,
         2,
         8,
         "Very fun gameplay.",
         "reviews",
         "2025-06-15T21:32:43.042+0000"
        ]
       ],
       "datasetInfos": [],
       "dbfsResultPath": null,
       "isJsonSchema": true,
       "metadata": {},
       "overflow": false,
       "plotOptions": {
        "customPlotOptions": {},
        "displayType": "table",
        "pivotAggregation": null,
        "pivotColumns": null,
        "xColumns": null,
        "yColumns": null
       },
       "removedWidgets": [],
       "schema": [
        {
         "metadata": "{}",
         "name": "ID",
         "type": "\"integer\""
        },
        {
         "metadata": "{}",
         "name": "USER_ID",
         "type": "\"integer\""
        },
        {
         "metadata": "{}",
         "name": "GAME_ID",
         "type": "\"integer\""
        },
        {
         "metadata": "{}",
         "name": "RATING",
         "type": "\"integer\""
        },
        {
         "metadata": "{}",
         "name": "COMMENT",
         "type": "\"string\""
        },
        {
         "metadata": "{}",
         "name": "NOME_ARQUIVO_BRONZE",
         "type": "\"string\""
        },
        {
         "metadata": "{}",
         "name": "DATA_HORA_SILVER",
         "type": "\"timestamp\""
        }
       ],
       "type": "table"
      }
     },
     "output_type": "display_data"
    },
    {
     "output_type": "stream",
     "name": "stdout",
     "output_type": "stream",
     "text": [
      "\n=== Validação: tags ===\nTotal de registros: 2\nColunas: ['ID', 'NAME', 'NOME_ARQUIVO_BRONZE', 'DATA_HORA_SILVER']\nPrimeiras 5 linhas da tabela tags:\n"
     ]
    },
    {
     "output_type": "display_data",
     "data": {
      "text/html": [
       "<style scoped>\n",
       "  .table-result-container {\n",
       "    max-height: 300px;\n",
       "    overflow: auto;\n",
       "  }\n",
       "  table, th, td {\n",
       "    border: 1px solid black;\n",
       "    border-collapse: collapse;\n",
       "  }\n",
       "  th, td {\n",
       "    padding: 5px;\n",
       "  }\n",
       "  th {\n",
       "    text-align: left;\n",
       "  }\n",
       "</style><div class='table-result-container'><table class='table-result'><thead style='background-color: white'><tr><th>ID</th><th>NAME</th><th>NOME_ARQUIVO_BRONZE</th><th>DATA_HORA_SILVER</th></tr></thead><tbody><tr><td>1</td><td>Singleplayer</td><td>tags</td><td>2025-06-15T21:32:49.234+0000</td></tr><tr><td>2</td><td>Indie</td><td>tags</td><td>2025-06-15T21:32:49.234+0000</td></tr></tbody></table></div>"
      ]
     },
     "metadata": {
      "application/vnd.databricks.v1+output": {
       "addedWidgets": {},
       "aggData": [],
       "aggError": "",
       "aggOverflow": false,
       "aggSchema": [],
       "aggSeriesLimitReached": false,
       "aggType": "",
       "arguments": {},
       "columnCustomDisplayInfos": {},
       "data": [
        [
         1,
         "Singleplayer",
         "tags",
         "2025-06-15T21:32:49.234+0000"
        ],
        [
         2,
         "Indie",
         "tags",
         "2025-06-15T21:32:49.234+0000"
        ]
       ],
       "datasetInfos": [],
       "dbfsResultPath": null,
       "isJsonSchema": true,
       "metadata": {},
       "overflow": false,
       "plotOptions": {
        "customPlotOptions": {},
        "displayType": "table",
        "pivotAggregation": null,
        "pivotColumns": null,
        "xColumns": null,
        "yColumns": null
       },
       "removedWidgets": [],
       "schema": [
        {
         "metadata": "{}",
         "name": "ID",
         "type": "\"integer\""
        },
        {
         "metadata": "{}",
         "name": "NAME",
         "type": "\"string\""
        },
        {
         "metadata": "{}",
         "name": "NOME_ARQUIVO_BRONZE",
         "type": "\"string\""
        },
        {
         "metadata": "{}",
         "name": "DATA_HORA_SILVER",
         "type": "\"timestamp\""
        }
       ],
       "type": "table"
      }
     },
     "output_type": "display_data"
    },
    {
     "output_type": "stream",
     "name": "stdout",
     "output_type": "stream",
     "text": [
      "\n=== Validação: users ===\nTotal de registros: 2\nColunas: ['ID', 'NAME', 'EMAIL', 'NOME_ARQUIVO_BRONZE', 'DATA_HORA_SILVER']\nPrimeiras 5 linhas da tabela users:\n"
     ]
    },
    {
     "output_type": "display_data",
     "data": {
      "text/html": [
       "<style scoped>\n",
       "  .table-result-container {\n",
       "    max-height: 300px;\n",
       "    overflow: auto;\n",
       "  }\n",
       "  table, th, td {\n",
       "    border: 1px solid black;\n",
       "    border-collapse: collapse;\n",
       "  }\n",
       "  th, td {\n",
       "    padding: 5px;\n",
       "  }\n",
       "  th {\n",
       "    text-align: left;\n",
       "  }\n",
       "</style><div class='table-result-container'><table class='table-result'><thead style='background-color: white'><tr><th>ID</th><th>NAME</th><th>EMAIL</th><th>NOME_ARQUIVO_BRONZE</th><th>DATA_HORA_SILVER</th></tr></thead><tbody><tr><td>1</td><td>Alice</td><td>alice@example.com</td><td>users</td><td>2025-06-15T21:32:56.212+0000</td></tr><tr><td>2</td><td>Bob</td><td>bob@example.com</td><td>users</td><td>2025-06-15T21:32:56.212+0000</td></tr></tbody></table></div>"
      ]
     },
     "metadata": {
      "application/vnd.databricks.v1+output": {
       "addedWidgets": {},
       "aggData": [],
       "aggError": "",
       "aggOverflow": false,
       "aggSchema": [],
       "aggSeriesLimitReached": false,
       "aggType": "",
       "arguments": {},
       "columnCustomDisplayInfos": {},
       "data": [
        [
         1,
         "Alice",
         "alice@example.com",
         "users",
         "2025-06-15T21:32:56.212+0000"
        ],
        [
         2,
         "Bob",
         "bob@example.com",
         "users",
         "2025-06-15T21:32:56.212+0000"
        ]
       ],
       "datasetInfos": [],
       "dbfsResultPath": null,
       "isJsonSchema": true,
       "metadata": {},
       "overflow": false,
       "plotOptions": {
        "customPlotOptions": {},
        "displayType": "table",
        "pivotAggregation": null,
        "pivotColumns": null,
        "xColumns": null,
        "yColumns": null
       },
       "removedWidgets": [],
       "schema": [
        {
         "metadata": "{}",
         "name": "ID",
         "type": "\"integer\""
        },
        {
         "metadata": "{}",
         "name": "NAME",
         "type": "\"string\""
        },
        {
         "metadata": "{}",
         "name": "EMAIL",
         "type": "\"string\""
        },
        {
         "metadata": "{}",
         "name": "NOME_ARQUIVO_BRONZE",
         "type": "\"string\""
        },
        {
         "metadata": "{}",
         "name": "DATA_HORA_SILVER",
         "type": "\"timestamp\""
        }
       ],
       "type": "table"
      }
     },
     "output_type": "display_data"
    }
   ],
   "source": [
    "validar_tabelas_silver()"
   ]
  },
  {
   "cell_type": "markdown",
   "metadata": {
    "application/vnd.databricks.v1+cell": {
     "cellMetadata": {},
     "inputWidgets": {},
     "nuid": "920f4d71-7b1f-45a9-ac3d-7c51e10afa2b",
     "showTitle": false,
     "tableResultSettingsMap": {},
     "title": ""
    }
   },
   "source": [
    "## Criação de tabelas Delta gerenciadas na camada Silver"
   ]
  },
  {
   "cell_type": "code",
   "execution_count": 0,
   "metadata": {
    "application/vnd.databricks.v1+cell": {
     "cellMetadata": {
      "byteLimit": 2048000,
      "rowLimit": 10000
     },
     "inputWidgets": {},
     "nuid": "d2b9ce2c-746c-4f01-8067-ed8e94591261",
     "showTitle": false,
     "tableResultSettingsMap": {},
     "title": ""
    }
   },
   "outputs": [],
   "source": [
    "def create_silver_managed_tables():\n",
    "    \"\"\"Cria tabelas Delta gerenciadas para a camada Silver\"\"\"\n",
    "    \n",
    "    database_name = \"pipeline_silver\"\n",
    "    spark.sql(f\"CREATE DATABASE IF NOT EXISTS {database_name}\")\n",
    "    \n",
    "    silver_path = f\"/mnt/{storageAccountName}/silver\"\n",
    "    \n",
    "    try:\n",
    "        silver_dirs = dbutils.fs.ls(silver_path)\n",
    "        \n",
    "        for dir_info in silver_dirs:\n",
    "            if dir_info.isDir():\n",
    "                table_name = dir_info.name.rstrip('/')\n",
    "                \n",
    "                # Ler dados da camada Silver\n",
    "                df = spark.read.format('delta').load(dir_info.path)\n",
    "                \n",
    "                # Criar tabela gerenciada\n",
    "                df.write.format('delta').mode('overwrite').saveAsTable(f\"{database_name}.{table_name}\")\n",
    "                print(f\"Tabela gerenciada criada: {database_name}.{table_name}\")\n",
    "                \n",
    "    except Exception as e:\n",
    "        print(f\"Erro ao criar tabelas gerenciadas: {str(e)}\")"
   ]
  },
  {
   "cell_type": "markdown",
   "metadata": {
    "application/vnd.databricks.v1+cell": {
     "cellMetadata": {},
     "inputWidgets": {},
     "nuid": "d3feb128-bcba-4717-ae45-e59177d80397",
     "showTitle": false,
     "tableResultSettingsMap": {},
     "title": ""
    }
   },
   "source": [
    "## Executando criação de tabelas gerenciadas"
   ]
  },
  {
   "cell_type": "code",
   "execution_count": 0,
   "metadata": {
    "application/vnd.databricks.v1+cell": {
     "cellMetadata": {
      "byteLimit": 2048000,
      "rowLimit": 10000
     },
     "inputWidgets": {},
     "nuid": "eecd8840-160d-43ec-a292-cd04f28eda65",
     "showTitle": false,
     "tableResultSettingsMap": {},
     "title": ""
    }
   },
   "outputs": [
    {
     "output_type": "stream",
     "name": "stdout",
     "output_type": "stream",
     "text": [
      "Tabela gerenciada criada: seguro_silver.achievement_unlocked\nTabela gerenciada criada: seguro_silver.achievements\nTabela gerenciada criada: seguro_silver.developers\nTabela gerenciada criada: seguro_silver.dlcs\nTabela gerenciada criada: seguro_silver.game_genders\nTabela gerenciada criada: seguro_silver.game_platforms\nTabela gerenciada criada: seguro_silver.game_tags\nTabela gerenciada criada: seguro_silver.games\nTabela gerenciada criada: seguro_silver.genders\nTabela gerenciada criada: seguro_silver.platforms\nTabela gerenciada criada: seguro_silver.purchases\nTabela gerenciada criada: seguro_silver.reviews\nTabela gerenciada criada: seguro_silver.tags\nTabela gerenciada criada: seguro_silver.users\n"
     ]
    }
   ],
   "source": [
    "create_silver_managed_tables()"
   ]
  },
  {
   "cell_type": "markdown",
   "metadata": {
    "application/vnd.databricks.v1+cell": {
     "cellMetadata": {},
     "inputWidgets": {},
     "nuid": "a9580f4b-3631-403f-aaac-371a0e75058c",
     "showTitle": false,
     "tableResultSettingsMap": {},
     "title": ""
    }
   },
   "source": [
    "## Verificação das tabelas Silver gerenciadas"
   ]
  },
  {
   "cell_type": "code",
   "execution_count": 0,
   "metadata": {
    "application/vnd.databricks.v1+cell": {
     "cellMetadata": {
      "byteLimit": 2048000,
      "rowLimit": 10000
     },
     "inputWidgets": {},
     "nuid": "82e483f4-65e0-402c-bfb3-2940cf510db0",
     "showTitle": false,
     "tableResultSettingsMap": {},
     "title": ""
    }
   },
   "outputs": [
    {
     "output_type": "stream",
     "name": "stdout",
     "output_type": "stream",
     "text": [
      "=== TABELAS SILVER GERENCIADAS ===\n+-------------+--------------------+-----------+\n|     database|           tableName|isTemporary|\n+-------------+--------------------+-----------+\n|seguro_silver|achievement_unlocked|      false|\n|seguro_silver|        achievements|      false|\n|seguro_silver|          developers|      false|\n|seguro_silver|                dlcs|      false|\n|seguro_silver|        game_genders|      false|\n|seguro_silver|      game_platforms|      false|\n|seguro_silver|           game_tags|      false|\n|seguro_silver|               games|      false|\n|seguro_silver|             genders|      false|\n|seguro_silver|           platforms|      false|\n|seguro_silver|           purchases|      false|\n|seguro_silver|             reviews|      false|\n|seguro_silver|                tags|      false|\n|seguro_silver|               users|      false|\n+-------------+--------------------+-----------+\n\n"
     ]
    }
   ],
   "source": [
    "print(\"=== TABELAS SILVER GERENCIADAS ===\")\n",
    "spark.sql(\"SHOW TABLES IN pipeline_silver\").show()"
   ]
  },
  {
   "cell_type": "markdown",
   "metadata": {
    "application/vnd.databricks.v1+cell": {
     "cellMetadata": {},
     "inputWidgets": {},
     "nuid": "8b7404f2-f2d2-429e-85b0-291f04c0c3d9",
     "showTitle": false,
     "tableResultSettingsMap": {},
     "title": ""
    }
   },
   "source": [
    "## Função para análise de qualidade dos dados"
   ]
  },
  {
   "cell_type": "code",
   "execution_count": 0,
   "metadata": {
    "application/vnd.databricks.v1+cell": {
     "cellMetadata": {
      "byteLimit": 2048000,
      "rowLimit": 10000
     },
     "inputWidgets": {},
     "nuid": "decbba98-bc96-4485-99a8-6cf909d3b0ed",
     "showTitle": false,
     "tableResultSettingsMap": {},
     "title": ""
    }
   },
   "outputs": [],
   "source": [
    "def analise_qualidade_silver():\n",
    "    \"\"\"Realiza análise básica de qualidade dos dados na camada Silver\"\"\"\n",
    "    \n",
    "    database_name = \"pipeline_silver\"\n",
    "    \n",
    "    try:\n",
    "        # Listar todas as tabelas\n",
    "        tabelas = spark.sql(f\"SHOW TABLES IN {database_name}\").collect()\n",
    "        \n",
    "        for tabela in tabelas:\n",
    "            nome_tabela = tabela['tableName']\n",
    "            print(f\"\\n=== Análise de Qualidade: {nome_tabela} ===\")\n",
    "            \n",
    "            # Contagem total de registros\n",
    "            total_registros = spark.sql(f\"SELECT COUNT(*) as total FROM {database_name}.{nome_tabela}\").collect()[0]['total']\n",
    "            print(f\"Total de registros: {total_registros}\")\n",
    "            \n",
    "            # Verificar valores nulos por coluna\n",
    "            df = spark.sql(f\"SELECT * FROM {database_name}.{nome_tabela}\")\n",
    "            \n",
    "            print(\"Valores nulos por coluna:\")\n",
    "            for coluna in df.columns:\n",
    "                if coluna not in ['NOME_ARQUIVO_BRONZE', 'DATA_HORA_SILVER']:\n",
    "                    nulos = df.filter(df[coluna].isNull()).count()\n",
    "                    percentual = (nulos / total_registros) * 100 if total_registros > 0 else 0\n",
    "                    print(f\"  {coluna}: {nulos} ({percentual:.2f}%)\")\n",
    "            \n",
    "    except Exception as e:\n",
    "        print(f\"Erro na análise de qualidade: {str(e)}\")"
   ]
  },
  {
   "cell_type": "markdown",
   "metadata": {
    "application/vnd.databricks.v1+cell": {
     "cellMetadata": {},
     "inputWidgets": {},
     "nuid": "63369768-5385-4e82-9f4c-9e84a0232497",
     "showTitle": false,
     "tableResultSettingsMap": {},
     "title": ""
    }
   },
   "source": [
    "## Executando análise de qualidade"
   ]
  },
  {
   "cell_type": "code",
   "execution_count": 0,
   "metadata": {
    "application/vnd.databricks.v1+cell": {
     "cellMetadata": {
      "byteLimit": 2048000,
      "rowLimit": 10000
     },
     "inputWidgets": {},
     "nuid": "73990b39-c574-4bd9-b410-2181d183b41d",
     "showTitle": false,
     "tableResultSettingsMap": {},
     "title": ""
    }
   },
   "outputs": [
    {
     "output_type": "stream",
     "name": "stdout",
     "output_type": "stream",
     "text": [
      "\n=== Análise de Qualidade: achievement_unlocked ===\nTotal de registros: 2\nValores nulos por coluna:\n  ID: 0 (0.00%)\n  USER_ID: 0 (0.00%)\n  ACHIEVEMENT_ID: 0 (0.00%)\n\n=== Análise de Qualidade: achievements ===\nTotal de registros: 2\nValores nulos por coluna:\n  ID: 0 (0.00%)\n  GAME_ID: 0 (0.00%)\n  TITLE: 0 (0.00%)\n  DESCRIPTION: 0 (0.00%)\n\n=== Análise de Qualidade: developers ===\nTotal de registros: 2\nValores nulos por coluna:\n  ID: 0 (0.00%)\n  NAME: 0 (0.00%)\n\n=== Análise de Qualidade: dlcs ===\nTotal de registros: 2\nValores nulos por coluna:\n  ID: 0 (0.00%)\n  GAME_ID: 0 (0.00%)\n  TITLE: 0 (0.00%)\n\n=== Análise de Qualidade: game_genders ===\nTotal de registros: 2\nValores nulos por coluna:\n  ID: 0 (0.00%)\n  GAME_ID: 0 (0.00%)\n  GENDER_ID: 0 (0.00%)\n\n=== Análise de Qualidade: game_platforms ===\nTotal de registros: 2\nValores nulos por coluna:\n  ID: 0 (0.00%)\n  GAME_ID: 0 (0.00%)\n  PLATFORM_ID: 0 (0.00%)\n\n=== Análise de Qualidade: game_tags ===\nTotal de registros: 2\nValores nulos por coluna:\n  ID: 0 (0.00%)\n  GAME_ID: 0 (0.00%)\n  TAG_ID: 0 (0.00%)\n\n=== Análise de Qualidade: games ===\nTotal de registros: 2\nValores nulos por coluna:\n  ID: 0 (0.00%)\n  TITLE: 0 (0.00%)\n  DEVELOPER_ID: 0 (0.00%)\n\n=== Análise de Qualidade: genders ===\nTotal de registros: 2\nValores nulos por coluna:\n  ID: 0 (0.00%)\n  NAME: 0 (0.00%)\n\n=== Análise de Qualidade: platforms ===\nTotal de registros: 2\nValores nulos por coluna:\n  ID: 0 (0.00%)\n  NAME: 0 (0.00%)\n\n=== Análise de Qualidade: purchases ===\nTotal de registros: 2\nValores nulos por coluna:\n  ID: 0 (0.00%)\n  USER_ID: 0 (0.00%)\n  GAME_ID: 0 (0.00%)\n  PURCHASE_DATE: 0 (0.00%)\n\n=== Análise de Qualidade: reviews ===\nTotal de registros: 2\nValores nulos por coluna:\n  ID: 0 (0.00%)\n  USER_ID: 0 (0.00%)\n  GAME_ID: 0 (0.00%)\n  RATING: 0 (0.00%)\n  COMMENT: 0 (0.00%)\n\n=== Análise de Qualidade: tags ===\nTotal de registros: 2\nValores nulos por coluna:\n  ID: 0 (0.00%)\n  NAME: 0 (0.00%)\n\n=== Análise de Qualidade: users ===\nTotal de registros: 2\nValores nulos por coluna:\n  ID: 0 (0.00%)\n  NAME: 0 (0.00%)\n  EMAIL: 0 (0.00%)\n"
     ]
    }
   ],
   "source": [
    "analise_qualidade_silver()"
   ]
  }
 ],
 "metadata": {
  "application/vnd.databricks.v1+notebook": {
   "computePreferences": null,
   "dashboards": [],
   "environmentMetadata": null,
   "inputWidgetPreferences": null,
   "language": "python",
   "notebookMetadata": {
    "pythonIndentUnit": 4
   },
   "notebookName": "bronze_to_silver",
   "widgets": {}
  },
  "kernelspec": {
   "display_name": "Python 3",
   "language": "python",
   "name": "python3"
  },
  "language_info": {
   "codemirror_mode": {
    "name": "ipython",
    "version": 3
   },
   "file_extension": ".py",
   "mimetype": "text/x-python",
   "name": "python",
   "nbconvert_exporter": "python",
   "pygments_lexer": "ipython3",
   "version": "3.8.5"
  }
 },
 "nbformat": 4,
 "nbformat_minor": 0
}